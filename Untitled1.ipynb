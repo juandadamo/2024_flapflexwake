{
 "cells": [
  {
   "cell_type": "code",
   "execution_count": 1,
   "id": "04f483d8-a576-4b77-8ae5-09db7a005e46",
   "metadata": {},
   "outputs": [
    {
     "name": "stderr",
     "output_type": "stream",
     "text": [
      "/mnt/sdb4/juan/anaconda3/lib/python3.12/site-packages/torch/nn/modules/transformer.py:307: UserWarning: enable_nested_tensor is True, but self.use_nested_tensor is False because encoder_layer.self_attn.batch_first was not True(use batch_first for better inference performance)\n",
      "  warnings.warn(f\"enable_nested_tensor is True, but self.use_nested_tensor is False because {why_not_sparsity_fast_path}\")\n",
      "/mnt/sdb4/juan/anaconda3/lib/python3.12/site-packages/shiftlab_ocr/doc2text/recognition.py:198: FutureWarning: You are using `torch.load` with `weights_only=False` (the current default value), which uses the default pickle module implicitly. It is possible to construct malicious pickle data which will execute arbitrary code during unpickling (See https://github.com/pytorch/pytorch/blob/main/SECURITY.md#untrusted-models for more details). In a future release, the default value for `weights_only` will be flipped to `True`. This limits the functions that could be executed during unpickling. Arbitrary objects will no longer be allowed to be loaded via this mode unless they are explicitly allowlisted by the user via `torch.serialization.add_safe_globals`. We recommend you start setting `weights_only=True` for any use case where you don't have full control of the loaded file. Please open an issue on GitHub for any issues related to this experimental feature.\n",
      "  self.model.load_state_dict(torch.load(weights, map_location=self._device))\n"
     ]
    },
    {
     "name": "stdout",
     "output_type": "stream",
     "text": [
      "recognizer weights has loaded from /mnt/sdb4/juan/anaconda3/lib/python3.12/site-packages/shiftlab_ocr/doc2text/ocr_transformer_4h2l_simple_conv_64x256.pt\n",
      "\u001b[31m\u001b[1mrequirements:\u001b[0m /mnt/sdb4/juan/anaconda3/lib/python3.12/site-packages/shiftlab_ocr/doc2text/yolov5/requirements.txt not found, check failed.\n"
     ]
    },
    {
     "name": "stderr",
     "output_type": "stream",
     "text": [
      "/mnt/sdb4/juan/anaconda3/lib/python3.12/site-packages/shiftlab_ocr/doc2text/yolov5/models/experimental.py:80: FutureWarning: You are using `torch.load` with `weights_only=False` (the current default value), which uses the default pickle module implicitly. It is possible to construct malicious pickle data which will execute arbitrary code during unpickling (See https://github.com/pytorch/pytorch/blob/main/SECURITY.md#untrusted-models for more details). In a future release, the default value for `weights_only` will be flipped to `True`. This limits the functions that could be executed during unpickling. Arbitrary objects will no longer be allowed to be loaded via this mode unless they are explicitly allowlisted by the user via `torch.serialization.add_safe_globals`. We recommend you start setting `weights_only=True` for any use case where you don't have full control of the loaded file. Please open an issue on GitHub for any issues related to this experimental feature.\n",
      "  ckpt = torch.load(attempt_download(w), map_location='cpu')  # load\n",
      "/mnt/sdb4/juan/anaconda3/lib/python3.12/site-packages/shiftlab_ocr/doc2text/yolov5/models/common.py:608: FutureWarning: `torch.cuda.amp.autocast(args...)` is deprecated. Please use `torch.amp.autocast('cuda', args...)` instead.\n",
      "  with amp.autocast(autocast):\n",
      "[W905 13:21:45.891094849 NNPACK.cpp:61] Could not initialize NNPACK! Reason: Unsupported hardware.\n"
     ]
    }
   ],
   "source": [
    "import urllib\n",
    "\n",
    "from shiftlab_ocr.doc2text.reader import Reader\n",
    "\n",
    "\n",
    "urllib.request.urlretrieve(\n",
    "  'https://raw.githubusercontent.com/konverner/shiftlab_ocr/main/demo_image.png',\n",
    "   'test.png')\n",
    "   \n",
    "reader = Reader()\n",
    "result = reader.doc2text(\"test.png\")"
   ]
  },
  {
   "cell_type": "code",
   "execution_count": null,
   "id": "f8f19c86-3117-427e-a6f0-e350866319c6",
   "metadata": {},
   "outputs": [],
   "source": []
  }
 ],
 "metadata": {
  "kernelspec": {
   "display_name": "Python 3 (ipykernel)",
   "language": "python",
   "name": "python3"
  },
  "language_info": {
   "codemirror_mode": {
    "name": "ipython",
    "version": 3
   },
   "file_extension": ".py",
   "mimetype": "text/x-python",
   "name": "python",
   "nbconvert_exporter": "python",
   "pygments_lexer": "ipython3",
   "version": "3.12.2"
  }
 },
 "nbformat": 4,
 "nbformat_minor": 5
}
