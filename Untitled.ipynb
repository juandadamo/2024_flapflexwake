{
 "cells": [
  {
   "cell_type": "code",
   "execution_count": 1,
   "id": "aaa5f757-daf1-4924-98b4-2f759b6c7208",
   "metadata": {},
   "outputs": [
    {
     "data": {
      "text/plain": [
       "1964176"
      ]
     },
     "execution_count": 1,
     "metadata": {},
     "output_type": "execute_result"
    }
   ],
   "source": [
    "1534000 + 430176"
   ]
  },
  {
   "cell_type": "code",
   "execution_count": 4,
   "id": "92ae3cf4-55ec-40d9-a2f8-06e5def96b43",
   "metadata": {},
   "outputs": [
    {
     "data": {
      "text/plain": [
       "711945.12"
      ]
     },
     "execution_count": 4,
     "metadata": {},
     "output_type": "execute_result"
    }
   ],
   "source": [
    "1924176*.37"
   ]
  },
  {
   "cell_type": "code",
   "execution_count": 3,
   "id": "1db0321a-21c4-442b-a531-17df474460b3",
   "metadata": {},
   "outputs": [
    {
     "data": {
      "text/plain": [
       "1937148.6486486488"
      ]
     },
     "execution_count": 3,
     "metadata": {},
     "output_type": "execute_result"
    }
   ],
   "source": [
    "716745/.37"
   ]
  },
  {
   "cell_type": "code",
   "execution_count": null,
   "id": "bf8a0207-d924-4859-9da6-a28128e78a3c",
   "metadata": {},
   "outputs": [],
   "source": []
  }
 ],
 "metadata": {
  "kernelspec": {
   "display_name": "Python 3 (ipykernel)",
   "language": "python",
   "name": "python3"
  },
  "language_info": {
   "codemirror_mode": {
    "name": "ipython",
    "version": 3
   },
   "file_extension": ".py",
   "mimetype": "text/x-python",
   "name": "python",
   "nbconvert_exporter": "python",
   "pygments_lexer": "ipython3",
   "version": "3.10.9"
  }
 },
 "nbformat": 4,
 "nbformat_minor": 5
}
