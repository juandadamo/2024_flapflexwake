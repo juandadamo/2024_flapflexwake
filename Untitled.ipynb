{
 "cells": [
  {
   "cell_type": "code",
   "execution_count": 1,
   "id": "381cdb99-d201-458d-898a-222c8d6388c2",
   "metadata": {},
   "outputs": [],
   "source": [
    "import numpy as np"
   ]
  },
  {
   "cell_type": "code",
   "execution_count": null,
   "id": "16afd67f-2fed-4127-9c7c-9b530c19cb07",
   "metadata": {},
   "outputs": [],
   "source": []
  },
  {
   "cell_type": "markdown",
   "id": "88eb245c-4df7-427c-b1f2-a2f870a9c46a",
   "metadata": {},
   "source": [
    "# Peso del material flexible"
   ]
  },
  {
   "cell_type": "code",
   "execution_count": null,
   "id": "940a278d-46f7-4cf4-bdf5-bade17f1292c",
   "metadata": {},
   "outputs": [],
   "source": [
    "# peso del clip\n",
    "Pc = 0.33e-3"
   ]
  },
  {
   "cell_type": "code",
   "execution_count": null,
   "id": "fa112d82-802f-40f2-8b9e-2e4ec0962a03",
   "metadata": {},
   "outputs": [],
   "source": [
    "#50 μm \n",
    "\n",
    "350*30"
   ]
  }
 ],
 "metadata": {
  "kernelspec": {
   "display_name": "Python 3 (ipykernel)",
   "language": "python",
   "name": "python3"
  },
  "language_info": {
   "codemirror_mode": {
    "name": "ipython",
    "version": 3
   },
   "file_extension": ".py",
   "mimetype": "text/x-python",
   "name": "python",
   "nbconvert_exporter": "python",
   "pygments_lexer": "ipython3",
   "version": "3.12.2"
  }
 },
 "nbformat": 4,
 "nbformat_minor": 5
}
