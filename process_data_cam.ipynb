{
 "cells": [
  {
   "cell_type": "code",
   "execution_count": 1,
   "id": "01d0dfaa-6cb0-4ed8-bde8-f3aa43253641",
   "metadata": {},
   "outputs": [],
   "source": [
    "%matplotlib widget\n",
    "from ipywidgets import interact\n",
    "import ipywidgets as widgets\n",
    "import pandas as pd\n",
    "import matplotlib.pyplot as plt\n",
    "import numpy as np\n",
    "import os,glob, socket\n",
    "import tifffile as tif\n",
    "import sympy as sp\n",
    "import pickle\n",
    "import time"
   ]
  },
  {
   "cell_type": "code",
   "execution_count": null,
   "id": "12693303-1d56-46c5-bc2f-91cc38982898",
   "metadata": {},
   "outputs": [],
   "source": []
  },
  {
   "cell_type": "code",
   "execution_count": null,
   "id": "b52d3f13-d26f-4aa9-928f-ed99ab6c3717",
   "metadata": {},
   "outputs": [],
   "source": []
  },
  {
   "cell_type": "code",
   "execution_count": 2,
   "id": "f6b1fa67-5f2a-4da0-8f68-933f9372f2f3",
   "metadata": {},
   "outputs": [],
   "source": [
    "def veloc_tunel(V):\n",
    "    tunel_v = pd.read_csv('tunel_viento.csv',header=None)\n",
    "    deltaV, U = tunel_v.to_numpy().T\n",
    "    p1 = np.polyfit(deltaV,U,1)\n",
    "    UdeltaV = np.poly1d(p1)\n",
    "    return UdeltaV(V)\n",
    "    \n",
    "class camfast:\n",
    "    def __init__(self,name):\n",
    "        self.dir = name\n",
    "        datafile = name.split('_')\n",
    "        D = 50e-2\n",
    "        self.th = float(datafile[1].replace('t',''))*1e-6\n",
    "        self.L = float(datafile[2].replace('L',''))/100*D\n",
    "        g = 9.8\n",
    "        if self.th == 75e-6:\n",
    "            self.rho = 1300\n",
    "            self.y1 = 37.3e-3\n",
    "        elif self.th == 50e-6:\n",
    "            self.rho = 1900\n",
    "            self.y1 = 50.2e-3\n",
    "        else:\n",
    "            self.th = 10000\n",
    "            self.rho = 1900\n",
    "            self.y1 = 0.01\n",
    "\n",
    "\n",
    "        self.B =  ((self.y1*1.103)**3)*self.rho*self.th*g # rigidez a la flexion por unidad de longitud\n",
    "        self.I = (self.th)**3/12  #momento de inercia por unidad de longitud\n",
    "        self.E = self.B / self.I\n",
    "\n",
    "        self.coords = 0\n",
    "        self.IM_vec0 = 0\n",
    "        self.IM_vec1 = 0\n",
    "        self.IM_mean = 0\n",
    "        self.IM_std = 0\n",
    "        self.FFT_VEC0 = 0\n",
    "        self.FFT_VEC1 = 0\n",
    "        self.FFT_fps = 250\n",
    "        self.FFT_freqs = 0\n",
    "\n",
    "\n",
    "        \n",
    "\n",
    "\n",
    "    "
   ]
  },
  {
   "cell_type": "code",
   "execution_count": 3,
   "id": "33b416ef-338d-4a6b-9f3b-20df989d07e3",
   "metadata": {},
   "outputs": [],
   "source": [
    "def plot(nfile,dir_i):\n",
    "    if dir_i.split('_')[4]=='1':\n",
    "        namefile = 'output_fastcam/'+''.join(dir_i.split('_')[1:4])+'_1.csv'\n",
    "    else:        \n",
    "        namefile = 'output_fastcam/'+''.join(dir_i.split('_')[1:4])+'_0.csv'\n",
    "        \n",
    "    plt.close('all')\n",
    "    print(namefile)\n",
    "    if os.path.isfile(namefile)==False:\n",
    "        fig,ax = plt.subplots()\n",
    "        file_list = np.sort(glob.glob(dir_w+dir_i+'/*.tif'))\n",
    "        if nfile>len(file_list):\n",
    "            nfile = len(file_list)-1\n",
    "        im_ref = tif.imread(file_list[nfile])\n",
    "        ax.imshow(im_ref)\n",
    "        n,m = im_ref.shape\n",
    "        ax.text(int(4*m/5),(n/2),f'snapshot={nfile:01n}',color='w')\n",
    "        ax.set_xlim([0,int(m/2)])\n",
    "        ax.set_ylim([int(n/2),n])\n",
    "        x0 = plt.ginput(-1,timeout=0)\n",
    "        \n",
    "        print(x0)\n",
    "        ax.set_xlim([int(m/2),m])\n",
    "        ax.set_ylim([int(n/2),n])\n",
    "        x1 = plt.ginput(-1,timeout=0) \n",
    "        print(x1)\n",
    "        ax.set_xlim([0,int(m/2)])\n",
    "        ax.set_ylim([0,int(n/2)])\n",
    "        x2 = plt.ginput(-1,timeout=0) \n",
    "        print(x2)\n",
    "        ax.set_xlim([m,int(m/2)])\n",
    "        ax.set_ylim([0,int(n/2)])\n",
    "        x3 = plt.ginput(-1,timeout=0) \n",
    "        print(x3)    \n",
    "        print(dir_i)\n",
    "        x = np.vstack((x0,x1,x2,x3))\n",
    "        A = pd.DataFrame(data=x,index=['x0','x1','x2','x3'])\n",
    "    \n",
    "        A.to_csv(namefile)\n",
    "        \n",
    "        return x\n"
   ]
  },
  {
   "cell_type": "code",
   "execution_count": 4,
   "id": "b01c1b7b-7eeb-4794-a12e-323ce962e7bd",
   "metadata": {},
   "outputs": [],
   "source": [
    "if socket.gethostname() =='pc-i7':\n",
    "    dir_w = '/mnt/sdb4/juan/data_2024/photron/'    \n",
    "else:\n",
    "    dir_w = '/media/juan/JUAN_PMMH/LFD/photron/'\n",
    "dirlist = np.sort(os.listdir(dir_w))\n",
    "dir_i = dirlist[-10]"
   ]
  },
  {
   "cell_type": "code",
   "execution_count": 5,
   "id": "7516ddcb-4522-4903-a137-ad69bc31bd40",
   "metadata": {},
   "outputs": [],
   "source": [
    "matching_t075 = [s for s in dirlist if \"t075\" in s]\n"
   ]
  },
  {
   "cell_type": "code",
   "execution_count": 6,
   "id": "175674c7-1591-4e69-8f46-2561e9ace42b",
   "metadata": {},
   "outputs": [],
   "source": [
    "import scipy as sc\n",
    "import sympy as sp\n",
    "x, y, z = sp.symbols('x y z')\n",
    "eq1 = sp.diff(sp.cos(x)*sp.cosh(x)+1, x)\n",
    "def fun_modn (x):\n",
    "    return np.cosh(x)*np.cos(x)+1\n",
    "    \n",
    "callable_fct = sp.lambdify(x, eq1)"
   ]
  },
  {
   "cell_type": "code",
   "execution_count": 7,
   "id": "5ee33f43-125d-4369-91bf-144686efa576",
   "metadata": {},
   "outputs": [],
   "source": [
    "x_s = np.linspace(1,15,200)\n",
    "y_s = np.zeros_like(x_s)\n",
    "for i,xi in enumerate(x_s):\n",
    "    y_s[i] = fun_modn(xi)\n",
    "signo_s = np.sign(y_s)\n",
    "diff_signo_s = np.diff(signo_s)\n",
    "x0s = x_s[np.nonzero(diff_signo_s)]"
   ]
  },
  {
   "cell_type": "code",
   "execution_count": 8,
   "id": "d81809e9-d119-4774-9a1c-051075678b24",
   "metadata": {},
   "outputs": [],
   "source": [
    "BnL = np.zeros_like(x0s)\n",
    "for i,x0i in enumerate(x0s):\n",
    "    BnL[i] = sc.optimize.fsolve(fun_modn,x0i,fprime=callable_fct)[0]\n",
    "#BnL = np.unique(A.round(decimals=4))"
   ]
  },
  {
   "cell_type": "code",
   "execution_count": 9,
   "id": "85913591-194c-4df5-b33b-61c15acf5881",
   "metadata": {},
   "outputs": [
    {
     "data": {
      "text/plain": [
       "[<matplotlib.lines.Line2D at 0x7123a5d2c070>]"
      ]
     },
     "execution_count": 9,
     "metadata": {},
     "output_type": "execute_result"
    },
    {
     "data": {
      "application/vnd.jupyter.widget-view+json": {
       "model_id": "88a06d0a908a4defa17dcc7cf899bb78",
       "version_major": 2,
       "version_minor": 0
      },
      "image/png": "[encoded data removed]",
      "text/html": [
       "\n",
       "            <div style=\"display: inline-block;\">\n",
       "                <div class=\"jupyter-widgets widget-label\" style=\"text-align: center;\">\n",
       "                    Figure\n",
       "                </div>\n",
       "                <img src='data:image/png;base64,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' width=300.0/>\n",
       "            </div>\n",
       "        "
      ],
      "text/plain": [
       "Canvas(toolbar=Toolbar(toolitems=[('Home', 'Reset original view', 'home', 'home'), ('Back', 'Back to previous …"
      ]
     },
     "metadata": {},
     "output_type": "display_data"
    }
   ],
   "source": [
    "fig,ax = plt.subplots(figsize=(3,3))\n",
    "ax.plot(x_s,y_s)\n",
    "ax.plot(BnL,fun_modn(BnL),marker='o',linestyle='none')\n"
   ]
  },
  {
   "cell_type": "code",
   "execution_count": 10,
   "id": "36409c6c-beb1-4765-9d18-213f9941e172",
   "metadata": {},
   "outputs": [
    {
     "data": {
      "text/plain": [
       "array([ 1.87510407,  4.69409113,  7.85475744, 10.99554073, 14.13716839])"
      ]
     },
     "execution_count": 10,
     "metadata": {},
     "output_type": "execute_result"
    }
   ],
   "source": [
    "BnL"
   ]
  },
  {
   "cell_type": "code",
   "execution_count": 11,
   "id": "6ac7422a-4fed-4cf3-8033-f6c0123548a3",
   "metadata": {},
   "outputs": [],
   "source": [
    "#collect data from images\n",
    "\n",
    "dirout = 'fastcam_objs/'\n",
    "lista_casos = np.sort(glob.glob('output_fastcam/*.csv'))"
   ]
  },
  {
   "cell_type": "code",
   "execution_count": null,
   "id": "edec3d81-efed-42ac-ae59-3d5f359d2dd9",
   "metadata": {},
   "outputs": [],
   "source": []
  },
  {
   "cell_type": "code",
   "execution_count": null,
   "id": "618cbc30-1d65-4231-909f-08a65de83c17",
   "metadata": {},
   "outputs": [],
   "source": [
    "time0= time.time()\n",
    "for i, casoi in enumerate(lista_casos[:]):\n",
    "    print(casoi)\n",
    "    print(time.time()-time0)\n",
    "    A = pd.read_csv(casoi,index_col=0).to_numpy()\n",
    "    thickn = casoi.split('/')[-1].split('t')[-1][:3]\n",
    "    Length = casoi.split('/')[-1].split('L')[-1][:3]\n",
    "    Veloc = casoi.split('/')[-1].split('v')[1][:2].split('_')[0]\n",
    "    name =  't'+thickn+'_L'+Length+'_v'+Veloc\n",
    "    matching = [s for s in dirlist if name in s]\n",
    "    for file_im in matching[:]:\n",
    "        caso = camfast(file_im)\n",
    "        nameout = dirout+caso.dir+'.pickle'\n",
    "        if os.path.isfile(nameout)==False:\n",
    "            print('Serie '+caso.dir  )\n",
    "            lista_imgs = np.sort(glob.glob(dir_w+file_im+'/*.tif'))\n",
    "            x0a = A[np.argsort(A[:,0])[:2]]\n",
    "            x0b = A[np.argsort(A[:,0])[2:]]\n",
    "            x1,x2 = x0a[np.argsort(x0a[:,1])[:2]]\n",
    "            x3,x4 = x0b[np.argsort(x0b[:,1])[:2]]\n",
    "            caso.coords = [x1,x2,x3,x4]\n",
    "            Nfiles = len(lista_imgs)\n",
    "            ncolumn = 30\n",
    "            vec_0, vec_1 = np.zeros((2,Nfiles,2*ncolumn))\n",
    "            nxmin = int(np.min((x1[0],x2[0])))\n",
    "            nxmax = int(np.max((x3[0],x4[0])))\n",
    "            nfile = np.abs(nxmax-nxmin)\n",
    "            #IM0,IM1 = np.zeros((2,Nfiles,2*ncolumn,nfile))\n",
    "            for i, filei in enumerate(lista_imgs[:]):\n",
    "                IM = tif.imread(filei)\n",
    "                if i==0:\n",
    "                    IM_m = IM\n",
    "                else:\n",
    "                    IM_m += IM\n",
    "                #IM0[i] = IM [int(x1[1])-ncolumn:int(x1[1])+ncolumn,nxmin:nxmin+nfile]\n",
    "                vec_0[i] = IM [int(x1[1])-ncolumn:int(x1[1])+ncolumn,int(x1[0])]\n",
    "                vec_1[i] = IM [int(x2[1])-ncolumn:int(x2[1])+ncolumn,int(x2[0])]\n",
    "            caso.IM_vec0 = vec_0\n",
    "            caso.IM_vec1 = vec_1\n",
    "            caso.IM_mean = IM_m\n",
    "            VEC_0 = np.fft.fft(vec_0-vec_0.mean(0),axis=0)\n",
    "            VEC_1 = np.fft.fft(vec_1-vec_1.mean(0),axis=0)\n",
    "            freqs = np.fft.fftfreq(len(vec_0),1/250)\n",
    "            caso.FFT_VEC0= VEC_0\n",
    "            caso.FFT_VEC1= VEC_1\n",
    "            caso.FFT_freqs = freqs\n",
    "            \n",
    "            nameout = dirout+caso.dir+'.pickle'\n",
    "            with open(nameout, 'wb') as handle:\n",
    "                pickle.dump(caso, handle, protocol=pickle.HIGHEST_PROTOCOL)\n",
    "            print(f'tiempo {time.time()-time0:.1f}seg.')\n",
    "        else:\n",
    "            print('Caso guardado')\n",
    "    \n",
    "\n",
    "\n"
   ]
  },
  {
   "cell_type": "code",
   "execution_count": null,
   "id": "4e962cba-543b-4d09-9418-1cae9b3305a4",
   "metadata": {},
   "outputs": [],
   "source": [
    "caso.dir"
   ]
  },
  {
   "cell_type": "code",
   "execution_count": null,
   "id": "0189be5f-6d9b-4628-ac16-1ea017c57775",
   "metadata": {},
   "outputs": [],
   "source": [
    "time0 = time.time()\n"
   ]
  },
  {
   "cell_type": "code",
   "execution_count": null,
   "id": "db99551d-e7c8-49a4-bb98-f3d9e72242e3",
   "metadata": {},
   "outputs": [],
   "source": [
    "fig,ax = plt.subplots(figsize=(5,3))\n",
    "ax.contour(caso.IM_vec0.T,colors='k')"
   ]
  },
  {
   "cell_type": "code",
   "execution_count": null,
   "id": "2bf3baba-4501-4e9a-8e38-b9febe435820",
   "metadata": {},
   "outputs": [],
   "source": [
    "\n"
   ]
  },
  {
   "cell_type": "code",
   "execution_count": null,
   "id": "f0069455-0645-4ba0-b52b-479e60d2e5e0",
   "metadata": {},
   "outputs": [],
   "source": [
    "fig,ax = plt.subplots()\n",
    "ax.contourf(caso.IM_mean.T)"
   ]
  },
  {
   "cell_type": "code",
   "execution_count": null,
   "id": "e0850fe2-cbd5-4dae-af80-a9e4d11f9650",
   "metadata": {},
   "outputs": [],
   "source": [
    "plt.subplots()\n",
    "ax.imshow(IM0[0].T)"
   ]
  },
  {
   "cell_type": "code",
   "execution_count": null,
   "id": "f4b1dfa3-f016-45d1-9970-03a69ea1e75f",
   "metadata": {},
   "outputs": [],
   "source": [
    "fig0,ax0 = plt.subplots(figsize=(5,2))\n",
    "ax0.contourf(vec_2.T,cmap='binary')\n",
    "\n",
    "\n",
    "ax0.set_xlabel('$N_{image}$')\n",
    "ax0.set_ylabel('pixels')  \n",
    "ax0.set_xlabel('$N_{image}$');\n",
    "ax0.grid()"
   ]
  },
  {
   "cell_type": "code",
   "execution_count": null,
   "id": "b1c6d2a1-9d34-4a50-abf4-b83029e095bd",
   "metadata": {},
   "outputs": [],
   "source": [
    "casoi"
   ]
  },
  {
   "cell_type": "code",
   "execution_count": null,
   "id": "d82335f4-923a-495a-8642-fa3af3a0ef56",
   "metadata": {},
   "outputs": [],
   "source": [
    "B = tif.imread(lista_imgs[0])\n",
    "fig,ax = plt.subplots()\n",
    "ax.imshow(B)\n",
    "for i,Ai in enumerate(A):\n",
    "    ax.plot(Ai[0],Ai[1],'wo',markersize=(i+1)*2)\n",
    "\n",
    "Nfiles = 2000\n",
    "ncolumn = 20\n",
    "vec_1, vec_2 = np.zeros((2,Nfiles,2*ncolumn))\n",
    "for i, filei in enumerate(file_list[:Nfiles]):\n",
    "    A = tif.imread(filei)\n",
    "    vec_1[i] = A [y1-ncolumn:y1+ncolumn,x1]\n",
    "    vec_2[i] = A [y2-ncolumn:y2+ncolumn,x2]\n",
    "    \n"
   ]
  },
  {
   "cell_type": "code",
   "execution_count": null,
   "id": "8511e78e-86fc-46c9-9250-2da2d49c9ffa",
   "metadata": {},
   "outputs": [],
   "source": []
  },
  {
   "cell_type": "code",
   "execution_count": null,
   "id": "66f91eac-d096-4644-a34c-082956c6391e",
   "metadata": {},
   "outputs": [],
   "source": []
  },
  {
   "cell_type": "code",
   "execution_count": null,
   "id": "155d260f-f038-46f3-88e8-5ab5436ca938",
   "metadata": {},
   "outputs": [],
   "source": [
    "matching = [s for s in dirlist if name in s]"
   ]
  },
  {
   "cell_type": "code",
   "execution_count": null,
   "id": "11b84d96-3741-4c0a-bf25-620032ed9a13",
   "metadata": {},
   "outputs": [],
   "source": [
    "matching"
   ]
  },
  {
   "cell_type": "code",
   "execution_count": null,
   "id": "518a7848-ba22-4229-9c2f-8754b9c3ef9a",
   "metadata": {},
   "outputs": [],
   "source": [
    "casoi.split('/')[-1][:-4]"
   ]
  },
  {
   "cell_type": "code",
   "execution_count": null,
   "id": "982e6f34-836a-4db5-8614-124a047d13ba",
   "metadata": {},
   "outputs": [],
   "source": [
    "dirlist"
   ]
  },
  {
   "cell_type": "code",
   "execution_count": null,
   "id": "90f4be25-1d73-492c-8a69-722b4fb42249",
   "metadata": {},
   "outputs": [],
   "source": []
  }
 ],
 "metadata": {
  "kernelspec": {
   "display_name": "Python 3 (ipykernel)",
   "language": "python",
   "name": "python3"
  },
  "language_info": {
   "codemirror_mode": {
    "name": "ipython",
    "version": 3
   },
   "file_extension": ".py",
   "mimetype": "text/x-python",
   "name": "python",
   "nbconvert_exporter": "python",
   "pygments_lexer": "ipython3",
   "version": "3.10.9"
  }
 },
 "nbformat": 4,
 "nbformat_minor": 5
}
