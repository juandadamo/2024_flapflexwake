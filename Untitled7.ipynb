{
 "cells": [
  {
   "cell_type": "code",
   "execution_count": 2,
   "id": "c7289a0e-4ae0-4219-b3ac-88d6fd14a9ad",
   "metadata": {},
   "outputs": [],
   "source": [
    "%matplotlib widget\n",
    "from ipywidgets import interact\n",
    "import ipywidgets as widgets\n",
    "import pandas as pd\n",
    "import matplotlib.pyplot as plt\n",
    "import numpy as np\n",
    "import os,glob, socket\n",
    "import tifffile as tif\n",
    "import sympy as sp\n",
    "import pickle\n",
    "import time"
   ]
  },
  {
   "cell_type": "code",
   "execution_count": 3,
   "id": "a6ff8fcf-d0f0-400e-a57f-d6a99e439c08",
   "metadata": {},
   "outputs": [],
   "source": [
    "dirws = '/media/juan/JUAN_PMMH/LFD/photron/'"
   ]
  },
  {
   "cell_type": "code",
   "execution_count": null,
   "id": "12f3fa4c-c5d6-42df-b37e-973690aa1058",
   "metadata": {},
   "outputs": [],
   "source": []
  }
 ],
 "metadata": {
  "kernelspec": {
   "display_name": "Python 3 (ipykernel)",
   "language": "python",
   "name": "python3"
  },
  "language_info": {
   "codemirror_mode": {
    "name": "ipython",
    "version": 3
   },
   "file_extension": ".py",
   "mimetype": "text/x-python",
   "name": "python",
   "nbconvert_exporter": "python",
   "pygments_lexer": "ipython3",
   "version": "3.10.9"
  }
 },
 "nbformat": 4,
 "nbformat_minor": 5
}
