{
 "cells": [
  {
   "cell_type": "code",
   "execution_count": 1,
   "id": "01d0dfaa-6cb0-4ed8-bde8-f3aa43253641",
   "metadata": {},
   "outputs": [],
   "source": [
    "%matplotlib qt\n",
    "from ipywidgets import interact\n",
    "import ipywidgets as widgets\n",
    "import pandas as pd\n",
    "import matplotlib.pyplot as plt\n",
    "import numpy as np\n",
    "import os,glob, socket\n",
    "import tifffile as tif\n",
    "from skimage.filters import rank\n",
    "from skimage.morphology import disk"
   ]
  },
  {
   "cell_type": "code",
   "execution_count": null,
   "id": "7e8cf99b-43da-43f7-aa6c-5b8760101640",
   "metadata": {},
   "outputs": [],
   "source": []
  },
  {
   "cell_type": "code",
   "execution_count": 2,
   "id": "de2c980a-1923-421d-ac7f-d8b6bdb0d950",
   "metadata": {},
   "outputs": [],
   "source": [
    "class caso_fast_cam:\n",
    "    def __init__(self,path):\n",
    "        self.path = path\n",
    "        self.files = np.sort(glob.glob(path+'/*.tif'))\n",
    "        "
   ]
  },
  {
   "cell_type": "code",
   "execution_count": null,
   "id": "281b8d4e-c381-49f7-9235-8d0696f2e36b",
   "metadata": {},
   "outputs": [],
   "source": [
    "lista_cam = np.sort(glob.glob('/media/juan/JUAN_PMMH/LFD/photron/dshape*'))\n",
    "lista_casos = [s for s in lista_cam if \"_v0_\" not in s]\n",
    "fig,ax = plt.subplots()\n",
    "for filei in lista_casos[:1]:\n",
    "    casoi = caso_fast_cam(filei)\n",
    "    img = tif.imread(casoi.files[0])\n",
    "    im1 = ax.imshow(img)\n",
    "    x0 = plt.ginput(-1,timeout=0)\n",
    "    x0 = np.array(x0).astype('int32')\n",
    "    ax.set_xlim([x0[0][0],x0[1][0]])\n",
    "    ax.set_ylim([x0[0][1],x0[2][1]])\n",
    "    img = img[x0[0][1]:x0[2][1],x0[0][0]:x0[1][0]]\n",
    "    for filei in casoi.files[1:]:\n",
    "        im0 = tif.imread(filei) \n",
    "        img += im0[x0[0][1]:x0[2][1],x0[0][0]:x0[1][0]]"
   ]
  },
  {
   "cell_type": "code",
   "execution_count": 18,
   "id": "2bdb7426-7189-418e-98c1-593df3a12cfb",
   "metadata": {},
   "outputs": [
    {
     "data": {
      "text/plain": [
       "array([[0, 0, 0, ..., 0, 0, 0],\n",
       "       [0, 0, 0, ..., 0, 0, 0],\n",
       "       [0, 0, 0, ..., 0, 0, 0],\n",
       "       ...,\n",
       "       [0, 0, 0, ..., 0, 0, 0],\n",
       "       [0, 0, 0, ..., 0, 0, 0],\n",
       "       [0, 0, 0, ..., 0, 0, 0]], dtype=uint16)"
      ]
     },
     "execution_count": 18,
     "metadata": {},
     "output_type": "execute_result"
    }
   ],
   "source": [
    "fig,ax = plt.subplots((2,1))\n",
    "ax[0].imshow(im0)\n",
    "ax[1],imshow(img)"
   ]
  },
  {
   "cell_type": "code",
   "execution_count": 13,
   "id": "ea927bfb-68d0-467a-be29-a32a929e9d2b",
   "metadata": {},
   "outputs": [
    {
     "data": {
      "text/plain": [
       "[(398.46103896103887, 230.56493506493496),\n",
       " (877.7683982683982, 236.1060606060605),\n",
       " (858.3744588744589, 784.6774891774892)]"
      ]
     },
     "execution_count": 13,
     "metadata": {},
     "output_type": "execute_result"
    }
   ],
   "source": [
    "x0"
   ]
  },
  {
   "cell_type": "code",
   "execution_count": 16,
   "id": "f57f00de-fe29-4cac-bd97-72d2c7d002f7",
   "metadata": {},
   "outputs": [
    {
     "data": {
      "text/plain": [
       "array([[398, 230],\n",
       "       [877, 236],\n",
       "       [858, 784]], dtype=int32)"
      ]
     },
     "execution_count": 16,
     "metadata": {},
     "output_type": "execute_result"
    }
   ],
   "source": []
  },
  {
   "cell_type": "code",
   "execution_count": null,
   "id": "e22b1eee-b7c5-4c80-b1e1-fb50b029d6ad",
   "metadata": {},
   "outputs": [],
   "source": []
  },
  {
   "cell_type": "code",
   "execution_count": null,
   "id": "4f1607e8-626e-4e9c-ab53-738349a274cf",
   "metadata": {},
   "outputs": [],
   "source": [
    "footprint = disk(30)\n",
    "img = tif.imread(casoi.files[0])\n",
    "img_eq = rank.equalize(img, footprint=footprint)"
   ]
  },
  {
   "cell_type": "code",
   "execution_count": null,
   "id": "ba0c7aad-fd1d-456d-adcc-a87593bee27b",
   "metadata": {},
   "outputs": [],
   "source": [
    "fig,ax = plt.subplots()\n",
    "ax.imshow(img_eq)"
   ]
  },
  {
   "cell_type": "code",
   "execution_count": null,
   "id": "e28d3769-3ed5-408b-90f2-a2802d39d2f6",
   "metadata": {},
   "outputs": [],
   "source": []
  },
  {
   "cell_type": "code",
   "execution_count": null,
   "id": "8cf6d61b-470c-49a9-8e68-4ddc5a72d8ef",
   "metadata": {},
   "outputs": [],
   "source": []
  },
  {
   "cell_type": "code",
   "execution_count": null,
   "id": "3291711b-4006-4aec-a2d5-b1c837b3acac",
   "metadata": {},
   "outputs": [],
   "source": []
  },
  {
   "cell_type": "code",
   "execution_count": null,
   "id": "33b416ef-338d-4a6b-9f3b-20df989d07e3",
   "metadata": {},
   "outputs": [],
   "source": [
    "def plot(nfile,dir_i):\n",
    "    if dir_i.split('_')[4]=='1':\n",
    "        namefile = 'output_fastcam/'+''.join(dir_i.split('_')[1:4])+'_1.csv'\n",
    "    else:        \n",
    "        namefile = 'output_fastcam/'+''.join(dir_i.split('_')[1:4])+'_0.csv'\n",
    "        \n",
    "    plt.close('all')\n",
    "    \n",
    "    if os.path.isfile(namefile)==False:\n",
    "        print(namefile)\n",
    "        fig,ax = plt.subplots()\n",
    "        fig.canvas.manager.set_window_title(namefile)\n",
    "        file_list = np.sort(glob.glob(dir_w+dir_i+'/*.tif'))\n",
    "        if nfile>len(file_list):\n",
    "            nfile = len(file_list)-1\n",
    "        im_ref = tif.imread(file_list[nfile])\n",
    "        ax.imshow(im_ref)\n",
    "        n,m = im_ref.shape\n",
    "        ax.text(int(4*m/5),(n/2),f'snapshot={nfile:01n}',color='w')\n",
    "        ax.set_xlim([0,int(m/2)])\n",
    "        ax.set_ylim([int(n/2),n])\n",
    "        x0 = plt.ginput(-1,timeout=0)\n",
    "        \n",
    "        print(x0)\n",
    "        ax.set_xlim([int(m/2),m])\n",
    "        ax.set_ylim([int(n/2),n])\n",
    "        x1 = plt.ginput(-1,timeout=0) \n",
    "        print(x1)\n",
    "        ax.set_xlim([0,int(m/2)])\n",
    "        ax.set_ylim([0,int(n/2)])\n",
    "        x2 = plt.ginput(-1,timeout=0) \n",
    "        print(x2)\n",
    "        ax.set_xlim([m,int(m/2)])\n",
    "        ax.set_ylim([0,int(n/2)])\n",
    "        x3 = plt.ginput(-1,timeout=0) \n",
    "        print(x3)    \n",
    "        print(dir_i)\n",
    "        x = np.vstack((x0,x1,x2,x3))\n",
    "        A = pd.DataFrame(data=x,index=['x0','x1','x2','x3'])\n",
    "    \n",
    "        A.to_csv(namefile)\n",
    "    else: print(namefile+ ' Caso Guardado' )   \n",
    "    return \n"
   ]
  },
  {
   "cell_type": "code",
   "execution_count": null,
   "id": "b01c1b7b-7eeb-4794-a12e-323ce962e7bd",
   "metadata": {},
   "outputs": [],
   "source": [
    "if socket.gethostname() =='pc-i7':\n",
    "    dir_w = '/mnt/sdb4/juan/data_2024/photron/'    \n",
    "else:\n",
    "    dir_w = '/media/juan/JUAN_PMMH/LFD/photron/'\n",
    "dirlist = np.sort(os.listdir(dir_w))\n",
    "dir_i = dirlist[-10]"
   ]
  },
  {
   "cell_type": "code",
   "execution_count": null,
   "id": "a4ee7459-4122-42b3-bcac-104ef7492fdf",
   "metadata": {},
   "outputs": [],
   "source": [
    "dirlist"
   ]
  },
  {
   "cell_type": "code",
   "execution_count": null,
   "id": "29d1f751-856c-4167-b0b2-e8ef2150b451",
   "metadata": {},
   "outputs": [],
   "source": [
    "for dir_i in dirlist:\n",
    "    out = interact(plot, nfile = widgets.BoundedIntText(value=7,min=0,max=10000,step=1,description='Text:', disabled=False\n",
    "),dir_i=dir_i)\n",
    "    plt.close('all')\n"
   ]
  },
  {
   "cell_type": "code",
   "execution_count": null,
   "id": "36a490dc-4a1e-4056-bf20-70d5617c23c2",
   "metadata": {},
   "outputs": [],
   "source": [
    "dir_i"
   ]
  },
  {
   "cell_type": "code",
   "execution_count": null,
   "id": "2a107382-bc4f-4938-994b-8f63d4a93308",
   "metadata": {},
   "outputs": [],
   "source": [
    "dirlist\n"
   ]
  },
  {
   "cell_type": "code",
   "execution_count": null,
   "id": "3dab2dca-f66f-43b1-9e77-f5eea6e81141",
   "metadata": {},
   "outputs": [],
   "source": []
  },
  {
   "cell_type": "code",
   "execution_count": null,
   "id": "dbd90eac-417f-4433-8b60-5c4607444273",
   "metadata": {},
   "outputs": [],
   "source": [
    "AA = pd.DataFrame(data=([1,2,3,4]),index=['x0','x1','x2','x3'])\n",
    "AA.to_csv('prueba.csv')"
   ]
  },
  {
   "cell_type": "code",
   "execution_count": null,
   "id": "85aa2d07-6999-44a9-b68d-9bd3e64998fa",
   "metadata": {},
   "outputs": [],
   "source": [
    "if os.path.isfile('prueba.csv')=='':\n",
    "    print('hola')"
   ]
  },
  {
   "cell_type": "code",
   "execution_count": null,
   "id": "5617c95f-d055-40fe-93d7-d7bf3f427b7b",
   "metadata": {},
   "outputs": [],
   "source": [
    "os.path.isfile('prueba.csv')"
   ]
  },
  {
   "cell_type": "code",
   "execution_count": null,
   "id": "4df9ee2e-bd56-41df-ad66-3713d1c09e7d",
   "metadata": {},
   "outputs": [],
   "source": []
  }
 ],
 "metadata": {
  "kernelspec": {
   "display_name": "Python 3 (ipykernel)",
   "language": "python",
   "name": "python3"
  },
  "language_info": {
   "codemirror_mode": {
    "name": "ipython",
    "version": 3
   },
   "file_extension": ".py",
   "mimetype": "text/x-python",
   "name": "python",
   "nbconvert_exporter": "python",
   "pygments_lexer": "ipython3",
   "version": "3.10.9"
  }
 },
 "nbformat": 4,
 "nbformat_minor": 5
}
