{
 "cells": [
  {
   "cell_type": "code",
   "execution_count": 26,
   "id": "c249d5dd-3fd8-49b3-b922-546e0670a596",
   "metadata": {
    "tags": []
   },
   "outputs": [],
   "source": [
    "#%matplotlib widget\n",
    "import serial,socket,os,glob\n",
    "import matplotlib.pyplot as plt\n",
    "#import atexit\n",
    "import numpy as np\n",
    "import pandas as pd\n",
    "import time, threading,sys,glob\n",
    "from ipywidgets import interact, interact_manual,interactive,widgets,Layout\n",
    "colores = (plt.rcParams['axes.prop_cycle'].by_key()['color'])\n",
    "import os,sys,socket\n",
    "import tifffile as tif\n",
    "import skimage as sk\n",
    "from IPython.display import Latex"
   ]
  },
  {
   "cell_type": "code",
   "execution_count": 27,
   "id": "03f7989f-2915-4680-a6ee-4852d888258a",
   "metadata": {},
   "outputs": [],
   "source": [
    "import scipy as sc\n",
    "import sympy as sp\n",
    "\n",
    "x, y, z = sp.symbols('x y z')\n",
    "eq1 = sp.diff(sp.cos(x)*sp.cosh(x)+1, x)\n",
    "def fun_modn (x):\n",
    "    return np.cosh(x)*np.cos(x)+1\n",
    "    \n",
    "callable_fct = sp.lambdify(x, eq1)\n",
    "\n",
    "x_s = np.linspace(1,15,200)\n",
    "y_s = np.zeros_like(x_s)\n",
    "for i,xi in enumerate(x_s):\n",
    "    y_s[i] = fun_modn(xi)\n",
    "signo_s = np.sign(y_s)\n",
    "diff_signo_s = np.diff(signo_s)\n",
    "x0s = x_s[np.nonzero(diff_signo_s)]\n",
    "\n",
    "BnL = np.zeros_like(x0s)\n",
    "for i,x0i in enumerate(x0s):\n",
    "    BnL[i] = sc.optimize.fsolve(fun_modn,x0i,fprime=callable_fct)[0]"
   ]
  },
  {
   "cell_type": "code",
   "execution_count": null,
   "id": "e780d626-1837-41ae-9bcf-26c1dfcc65b4",
   "metadata": {},
   "outputs": [],
   "source": []
  },
  {
   "cell_type": "code",
   "execution_count": 40,
   "id": "44b1de55-0943-41ef-b745-39452f271ddf",
   "metadata": {
    "tags": []
   },
   "outputs": [],
   "source": [
    "class material:\n",
    "    def __init__(self, name,th,rho,lstuart):\n",
    "        g = 9.8\n",
    "        self.name = name\n",
    "        self.thickness = th*1e-6\n",
    "        self.rho = rho\n",
    "        self.lstuart = lstuart*1e-3\n",
    "        self.B =  ((lstuart*1e-3*1.103)**3)*rho*th*1e-6*g # rigidez a la flexion por unidad de longitud\n",
    "        self.I = (th*1e-6)**3/12  #momento de inercia por unidad de longitud\n",
    "        self.E = self.B / self.I\n",
    "        self.L = 1\n",
    "        #calculo modo empotrado\n",
    "\n",
    "        x_s = np.linspace(1,15,200)\n",
    "        y_s = np.zeros_like(x_s)\n",
    "        for i,xi in enumerate(x_s):\n",
    "            y_s[i] = fun_modn(xi)\n",
    "        signo_s = np.sign(y_s)\n",
    "        diff_signo_s = np.diff(signo_s)\n",
    "        x0s = x_s[np.nonzero(diff_signo_s)]\n",
    "\n",
    "        BnL = np.zeros_like(x0s)\n",
    "        for i,x0i in enumerate(x0s):\n",
    "            BnL[i] = sc.optimize.fsolve(fun_modn,x0i,fprime=callable_fct)[0]\n",
    "\n",
    "        self.BetaL = BnL[0]\n",
    "    def update_modo(self,nselect):\n",
    "        \n",
    "        self.BetaL = BnL[nselect-1]\n",
    "        print(nselect)\n",
    "        \n",
    "        \n",
    "        "
   ]
  },
  {
   "cell_type": "code",
   "execution_count": 36,
   "id": "f623e9fa-9eba-4a80-b2a0-a22ba36fc6b8",
   "metadata": {
    "tags": []
   },
   "outputs": [],
   "source": [
    "escala = 10e-2/(1272-217)\n",
    "\n",
    "Ym = escala * (1374-865)\n",
    "t = 75\n",
    "Poliesti_75 = material('Poliestireno',t,1.160e3,Ym*1e3)\n",
    "B = Poliesti_75.B\n",
    "rho = 1100\n",
    "\n",
    "k1L = 1.875\n",
    "k2L = 1.49418*np.pi\n",
    "t = 75e-6\n",
    "L = 50e-3*1.50\n",
    "#L = 35e-3\n",
    "\n",
    "mu = rho  * t\n",
    "k1 = k1L/L\n",
    "k2 = k2L / L\n",
    "f_n1 = k1**2*(B/mu)**0.5/2/np.pi\n",
    "f_n2 = k2**2*(B/mu)**0.5/2/np.pi"
   ]
  },
  {
   "cell_type": "code",
   "execution_count": 41,
   "id": "9c33839b-7cb1-4d8f-8d52-71277ec3e65e",
   "metadata": {
    "tags": []
   },
   "outputs": [
    {
     "data": {
      "application/vnd.jupyter.widget-view+json": {
       "model_id": "5cce15aeb5a24bd0a341369d2cb76281",
       "version_major": 2,
       "version_minor": 0
      },
      "text/plain": [
       "VBox(children=(IntSlider(value=1, description='modo Nº', max=4, min=1), FloatText(value=1300.0, description='$…"
      ]
     },
     "execution_count": 41,
     "metadata": {},
     "output_type": "execute_result"
    }
   ],
   "source": [
    "modo_slider = widgets.IntSlider(description='modo Nº',min=1, max=4, step=1, value=1)\n",
    "style = {'description_width': 'initial'}\n",
    "float_densidad = widgets.FloatText(value=1300,step=10,min=1,readout=True,readout_format='.2e',\n",
    "                                   description='$\\\\rho[kg/ m^3]$ ')\n",
    "float_EI = widgets.Text(value=f'{28e-5:.2e}',description='EI[N m]')\n",
    "float_L = widgets.FloatText(value=35,step=1,min=1,readout=True,readout_format='.2e',description='L[mm] ')\n",
    "float_fn = widgets.Text(value=f'{f_n1:.2f}',description='$f_n[hz]=$',readout=True,readout_format='e')\n",
    "float_beta = widgets.Text(value=f'{1:.2e}',description='$\\\\beta$[1/mm]',readout=True,readout_format='.2e',)\n",
    "output = widgets.Output()\n",
    "\n",
    "\n",
    "panel1 = widgets.VBox((modo_slider,float_densidad,float_EI,float_L,float_fn,float_beta,output))\n",
    "panel1.layout=Layout(width='1400px', height='280px')\n",
    "\n",
    "\n",
    "Poliesti_75.L = float_L.value*1e-3\n",
    "Poliesti_75.L = float_L.value*1e-3\n",
    "\n",
    "def handle_slider_change(change):\n",
    "    with output:\n",
    "        output.clear_output()\n",
    "        \n",
    "        #Poliesti_75.update_modo(int(float(float_beta.value)))\n",
    "        Poliesti_75.update_modo(change.new)\n",
    "        \n",
    "        float_beta.value = '{}'\n",
    "        display(Latex(f\"Modo select es : {change.new}, $\\\\beta L = ${Poliesti_75.BetaL:.3f}\"))\n",
    "\n",
    "modo_slider.observe(handle_slider_change, 'value')\n",
    "#modo_slider.observe(Poliesti_75.update_modo(int(float(float_beta.value))))\n",
    "\n",
    "\n",
    "panel1"
   ]
  },
  {
   "cell_type": "code",
   "execution_count": 42,
   "id": "6ad2229e-23c5-4002-87f3-34813cfc77c3",
   "metadata": {},
   "outputs": [
    {
     "data": {
      "text/plain": [
       "35.0"
      ]
     },
     "execution_count": 42,
     "metadata": {},
     "output_type": "execute_result"
    }
   ],
   "source": [
    "Poliesti_75.L"
   ]
  },
  {
   "cell_type": "code",
   "execution_count": 13,
   "id": "99b98274-c751-45b5-986a-c093e79de703",
   "metadata": {},
   "outputs": [
    {
     "data": {
      "application/vnd.jupyter.widget-view+json": {
       "model_id": "180cb5d1bcae4857972779b6e09f8cf3",
       "version_major": 2,
       "version_minor": 0
      },
      "text/plain": [
       "VBox(children=(IntSlider(value=0), Output()))"
      ]
     },
     "execution_count": 13,
     "metadata": {},
     "output_type": "execute_result"
    }
   ],
   "source": [
    "slider = widgets.IntSlider(value=0, min=0, max=100, step=1)\n",
    "output = widgets.Output()\n",
    "\n",
    "def handle_slider_change(change):\n",
    "    with output:\n",
    "        output.clear_output()\n",
    "        print(f\"The new slider value is: {change.new}\")\n",
    "\n",
    "slider.observe(handle_slider_change, 'value')\n",
    "\n",
    "widgets.VBox([slider, output])"
   ]
  },
  {
   "cell_type": "code",
   "execution_count": null,
   "id": "6a5db3c6-96ce-4eb1-90c5-719f20c9f458",
   "metadata": {},
   "outputs": [],
   "source": []
  },
  {
   "cell_type": "code",
   "execution_count": 7,
   "id": "2c0e0eb2-67c2-4a63-9969-18060a9dfb38",
   "metadata": {},
   "outputs": [
    {
     "data": {
      "text/plain": [
       "4.694091132974175"
      ]
     },
     "execution_count": 7,
     "metadata": {},
     "output_type": "execute_result"
    }
   ],
   "source": [
    "Poliesti_75.BetaL"
   ]
  },
  {
   "cell_type": "code",
   "execution_count": 8,
   "id": "5ae6fcde-0988-4bb9-b93a-3a288d7d0b39",
   "metadata": {},
   "outputs": [
    {
     "data": {
      "text/plain": [
       "1"
      ]
     },
     "execution_count": 8,
     "metadata": {},
     "output_type": "execute_result"
    }
   ],
   "source": [
    "modo_slider.get_interact_value()"
   ]
  },
  {
   "cell_type": "code",
   "execution_count": 9,
   "id": "7883429d-327d-4eec-b2f6-5a03719522c0",
   "metadata": {},
   "outputs": [],
   "source": [
    "def update(val):\n",
    "    line.set_ydata(f(t, amp_slider.val, freq_slider.val))\n",
    "    fig.canvas.draw_idle()\n",
    "\n",
    "\n",
    "# register the update function with each slider\n"
   ]
  },
  {
   "cell_type": "code",
   "execution_count": 10,
   "id": "0bc78120-c56b-428e-bb82-acb286279a9c",
   "metadata": {},
   "outputs": [
    {
     "ename": "SyntaxError",
     "evalue": "invalid syntax (2694094510.py, line 1)",
     "output_type": "error",
     "traceback": [
      "\u001b[0;36m  Cell \u001b[0;32mIn[10], line 1\u001b[0;36m\u001b[0m\n\u001b[0;31m    ver tema masa virtual\u001b[0m\n\u001b[0m        ^\u001b[0m\n\u001b[0;31mSyntaxError\u001b[0m\u001b[0;31m:\u001b[0m invalid syntax\n"
     ]
    }
   ],
   "source": [
    "ver tema masa virtual"
   ]
  },
  {
   "cell_type": "code",
   "execution_count": null,
   "id": "d4c79e72-0e05-4105-9b56-12e84c36d551",
   "metadata": {
    "tags": []
   },
   "outputs": [],
   "source": [
    "dir_i = dirlist[-10]\n",
    "\n",
    "file_list = np.sort(glob.glob(dir_w+dir_i+'/*.tif'))\n",
    "im_ref = tif.imread(file_list[0])"
   ]
  },
  {
   "cell_type": "code",
   "execution_count": null,
   "id": "a28ffb3b-2513-475b-ac53-bd5017178745",
   "metadata": {},
   "outputs": [],
   "source": [
    "dir_i"
   ]
  },
  {
   "cell_type": "code",
   "execution_count": null,
   "id": "088755a6-e6a1-477d-a1c3-a0857925f1a5",
   "metadata": {
    "tags": []
   },
   "outputs": [],
   "source": [
    "fig,ax = plt.subplots()\n",
    "ax.imshow(im_ref,cmap='binary')\n",
    "x1 = 138\n",
    "y1 = 694\n",
    "x2 = 138\n",
    "y2 = 339\n",
    "ax.grid()\n",
    "plt.savefig('tikzs/def_075_L150_V40.pdf')"
   ]
  },
  {
   "cell_type": "code",
   "execution_count": null,
   "id": "302ea712-4427-4be2-a5fc-8b860c49d24a",
   "metadata": {
    "tags": []
   },
   "outputs": [],
   "source": [
    "Nfiles = 2000\n",
    "ncolumn = 20\n",
    "vec_1, vec_2 = np.zeros((2,Nfiles,2*ncolumn))\n",
    "for i, filei in enumerate(file_list[:Nfiles]):\n",
    "    A = tif.imread(filei)\n",
    "    vec_1[i] = A [y1-ncolumn:y1+ncolumn,x1]\n",
    "    vec_2[i] = A [y2-ncolumn:y2+ncolumn,x2]"
   ]
  },
  {
   "cell_type": "code",
   "execution_count": null,
   "id": "587969cf-bed4-49a1-9542-02cac088afda",
   "metadata": {
    "tags": []
   },
   "outputs": [],
   "source": [
    "fig0,ax0 = plt.subplots(figsize=(5,2))\n",
    "ax0.contourf(vec_1.T,cmap='binary')\n",
    "\n",
    "\n",
    "ax0.set_xlabel('$N_{image}$')\n",
    "ax0.set_ylabel('pixels')  \n",
    "ax0.set_xlabel('$N_{image}$');\n",
    "ax0.grid()\n",
    "\n",
    "plt.savefig('tikzs/stack_t075_L150_V40_a.pdf')\n",
    "fig1,ax1 = plt.subplots(figsize=(5,2))\n",
    "ax1.contourf(vec_2.T,cmap='binary')\n",
    "ax1.grid()\n",
    "ax1.set_xlabel('$N_{image}$')\n",
    "ax1.set_ylabel('pixels')  \n",
    "ax1.set_xlabel('$N_{image}$');\n",
    "ax1.grid()\n",
    "plt.savefig('tikzs/stack_t075_L150_V40_b.pdf')"
   ]
  },
  {
   "cell_type": "code",
   "execution_count": null,
   "id": "1b4e66c8-8abb-49e4-ab3a-f09a82bae751",
   "metadata": {
    "tags": []
   },
   "outputs": [],
   "source": [
    "VEC_1 = np.fft.fft(vec_1-vec_1.mean(0),axis=0)\n",
    "VEC_1b = np.fft.fft(img-img.mean(0),axis=0)\n",
    "VEC_2 = np.fft.fft(vec_2-vec_2.mean(0),axis=0)\n",
    "freqs = np.fft.fftfreq(len(vec_1),1/250)"
   ]
  },
  {
   "cell_type": "code",
   "execution_count": null,
   "id": "6c02553a-500f-439c-96e0-b9a4a2326b99",
   "metadata": {
    "tags": []
   },
   "outputs": [],
   "source": [
    "fig,ax = plt.subplots(1,2)\n",
    "ax[0].semilogy(freqs,np.abs(VEC_1).sum(1)/np.abs(VEC_1).max(),alpha=1)\n",
    "ax[0].semilogy(freqs,np.abs(VEC_2).sum(1)/np.abs(VEC_2).max(),alpha=0.5)\n",
    "ax[0].set_xlim([10,100])\n",
    "ax[0].set_ylim([1e-1,10])\n",
    "ax[0].grid()\n",
    "\n",
    "ax[1].semilogy(freqs,np.abs(VEC_1b).sum(1)/np.abs(VEC_1b).max(),alpha=1)\n",
    "ax[1].semilogy(freqs,np.abs(VEC_2).sum(1)/np.abs(VEC_2).max(),alpha=0.5)\n",
    "ax[1].set_xlim([10,100])\n",
    "ax[1].set_ylim([1e-1,10])\n",
    "ax[1].grid()"
   ]
  },
  {
   "cell_type": "code",
   "execution_count": null,
   "id": "b84ef6de-adb7-4edf-9cf7-fedbda3c6edd",
   "metadata": {
    "tags": []
   },
   "outputs": [],
   "source": [
    "filei"
   ]
  },
  {
   "cell_type": "code",
   "execution_count": null,
   "id": "56512c62-4fdb-4e29-8a1a-caf7c2153efc",
   "metadata": {
    "tags": []
   },
   "outputs": [],
   "source": [
    "dirlist[-4]"
   ]
  },
  {
   "cell_type": "code",
   "execution_count": null,
   "id": "1fddeb99-6da2-401f-b106-6a05a615e184",
   "metadata": {},
   "outputs": [],
   "source": [
    "fig,ax = plt.subplots()\n",
    "ax.contourf()"
   ]
  },
  {
   "cell_type": "code",
   "execution_count": null,
   "id": "16bdbbc7-fc11-465c-8a83-dc8ed5ebdd33",
   "metadata": {
    "tags": []
   },
   "outputs": [],
   "source": [
    "fig,ax = plt.subplots(1,4,sharey=True,figsize=(8,4),sharex=True)\n",
    "ax0, ax1, ax2,ax3 =  ax\n",
    "img0 = np.copy(vec_1);\n",
    "img0[vec_1<3900] = 3900\n",
    "img1 = sk.util.img_as_float64(img0/img0.max()*2-1);#sk.util.img_as_ubyte(vec_1)\n",
    "img = sk.util.img_as_ubyte(img1)\n",
    "img_rescale = sk.exposure.equalize_hist(img)\n",
    "footprint = sk.morphology.disk(7)\n",
    "img_eq = sk.filters.rank.equalize(img, footprint=footprint)\n",
    "ax1.contourf(img.T)\n",
    "ax2.contourf(img_rescale.T)\n",
    "ax3.contourf(img_eq.T)\n",
    "ax0.contourf(img0.T)"
   ]
  },
  {
   "cell_type": "code",
   "execution_count": null,
   "id": "dea55fe7-13a8-4632-90b3-782357032bc7",
   "metadata": {},
   "outputs": [],
   "source": [
    "fig,ax = plt.subplots(1,4,figsize=(8,4),sharey=True)\n",
    "A = np.histogram(img)\n",
    "ax[1].hist(img);\n",
    "ax[2].hist(img_rescale);\n",
    "ax[3].hist(img_eq);\n",
    "ax[0].hist(img0);"
   ]
  },
  {
   "cell_type": "code",
   "execution_count": null,
   "id": "6d024508-e79a-49a5-8585-84ee20bd578c",
   "metadata": {
    "tags": []
   },
   "outputs": [],
   "source": []
  },
  {
   "cell_type": "code",
   "execution_count": null,
   "id": "ab67f760-1f91-4d72-8e5b-8079be341c78",
   "metadata": {},
   "outputs": [],
   "source": [
    "nu_poisson = 0.38\n",
    "Ym = np.array([22,40,63])*1e-3\n",
    "thickness = np.array([28,57,103])\n",
    "pesos = np.array([0.48,0.73,2.56])*1e-3\n",
    "areas = np.array([100*149,200*55,195*95])*1e-6\n",
    "rho = pesos / (areas*thickness)\n",
    "g = 9.8\n",
    "\n",
    "\n",
    "\n",
    "\n",
    "mu = rho * t  *g\n",
    "\n",
    "B = (Ym*1.103)**3*mu\n",
    "Ih = t**3/(12*(1-nu_poisson**2))\n",
    "E = (1.103*Ym)**3*rho*g/Ih\n",
    " \n",
    "\n",
    "\n",
    "    "
   ]
  },
  {
   "cell_type": "code",
   "execution_count": null,
   "id": "c560a551-04bd-46cb-9a03-72295ac44992",
   "metadata": {
    "tags": []
   },
   "outputs": [],
   "source": [
    "rho"
   ]
  },
  {
   "cell_type": "code",
   "execution_count": null,
   "id": "1ac014be-e09a-4059-b7bd-4d1b72958232",
   "metadata": {},
   "outputs": [],
   "source": [
    "rho = 1160\n",
    "\n",
    "k1L = 1.875\n",
    "t = 75e-6\n",
    "L = 50e-3*1.50\n",
    "#L = 35e-3\n",
    "\n",
    "mu = rho  * t\n",
    "k1 = k1L/L\n",
    "f_n1 = k1**2*(B/mu)**0.5/2/np.pi"
   ]
  },
  {
   "cell_type": "code",
   "execution_count": null,
   "id": "cfc2bbef-1e55-41bc-ba50-76be4e528539",
   "metadata": {},
   "outputs": [],
   "source": []
  },
  {
   "cell_type": "code",
   "execution_count": null,
   "id": "2dbed1f6-502f-4537-8656-4b8ccf5caf16",
   "metadata": {
    "tags": []
   },
   "outputs": [],
   "source": [
    "f_n1"
   ]
  },
  {
   "cell_type": "code",
   "execution_count": null,
   "id": "c9a5a208-344a-4459-92ab-1de359990a48",
   "metadata": {
    "tags": []
   },
   "outputs": [],
   "source": [
    "Ih"
   ]
  },
  {
   "cell_type": "code",
   "execution_count": null,
   "id": "42fd51b5-f693-49a3-ac20-dd3c16e24e2f",
   "metadata": {
    "tags": []
   },
   "outputs": [],
   "source": [
    "B/1e-5"
   ]
  },
  {
   "cell_type": "code",
   "execution_count": null,
   "id": "e7024f17-21ac-430b-8176-d5a77f5745f5",
   "metadata": {
    "tags": []
   },
   "outputs": [],
   "source": [
    "thickness"
   ]
  },
  {
   "cell_type": "code",
   "execution_count": null,
   "id": "576635c9-3798-4e0c-997e-feac2f6a1ef2",
   "metadata": {},
   "outputs": [],
   "source": []
  }
 ],
 "metadata": {
  "kernelspec": {
   "display_name": "Python 3 (ipykernel)",
   "language": "python",
   "name": "python3"
  },
  "language_info": {
   "codemirror_mode": {
    "name": "ipython",
    "version": 3
   },
   "file_extension": ".py",
   "mimetype": "text/x-python",
   "name": "python",
   "nbconvert_exporter": "python",
   "pygments_lexer": "ipython3",
   "version": "3.12.2"
  }
 },
 "nbformat": 4,
 "nbformat_minor": 5
}
