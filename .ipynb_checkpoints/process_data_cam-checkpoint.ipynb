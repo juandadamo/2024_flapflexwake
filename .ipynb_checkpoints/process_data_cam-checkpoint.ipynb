{
 "cells": [
  {
   "cell_type": "code",
   "execution_count": 1,
   "id": "01d0dfaa-6cb0-4ed8-bde8-f3aa43253641",
   "metadata": {},
   "outputs": [],
   "source": [
    "%matplotlib widget\n",
    "from ipywidgets import interact\n",
    "import ipywidgets as widgets\n",
    "import pandas as pd\n",
    "import matplotlib.pyplot as plt\n",
    "import numpy as np\n",
    "import os,glob, socket\n",
    "import tifffile as tif\n",
    "import sympy as sp\n",
    "import pickle\n",
    "import time"
   ]
  },
  {
   "cell_type": "code",
   "execution_count": null,
   "id": "b52d3f13-d26f-4aa9-928f-ed99ab6c3717",
   "metadata": {},
   "outputs": [],
   "source": []
  },
  {
   "cell_type": "code",
   "execution_count": 2,
   "id": "f6b1fa67-5f2a-4da0-8f68-933f9372f2f3",
   "metadata": {},
   "outputs": [],
   "source": [
    "def veloc_tunel(V):\n",
    "    tunel_v = pd.read_csv('tunel_viento.csv',header=None)\n",
    "    deltaV, U = tunel_v.to_numpy().T\n",
    "    p1 = np.polyfit(deltaV,U,1)\n",
    "    UdeltaV = np.poly1d(p1)\n",
    "    return UdeltaV(V)\n",
    "    \n",
    "class camfast:\n",
    "    def __init__(self,name):\n",
    "        self.dir = name\n",
    "        datafile = name.split('_')\n",
    "        D = 50e-2\n",
    "        self.th = float(datafile[1].replace('t',''))*1e-6\n",
    "        self.L = float(datafile[2].replace('L',''))/100*D\n",
    "        g = 9.8\n",
    "        if self.th == 75e-6:\n",
    "            self.rho = 1300\n",
    "            self.y1 = 37.3e-3\n",
    "        elif self.th == 50e-6:\n",
    "            self.rho = 1900\n",
    "            self.y1 = 50.2e-3\n",
    "        else:\n",
    "            self.th = 10000\n",
    "            self.rho = 1900\n",
    "            self.y1 = 0.01\n",
    "\n",
    "\n",
    "        self.B =  ((self.y1*1.103)**3)*self.rho*self.th*g # rigidez a la flexion por unidad de longitud\n",
    "        self.I = (self.th)**3/12  #momento de inercia por unidad de longitud\n",
    "        self.E = self.B / self.I\n",
    "\n",
    "        self.coords = 0\n",
    "        self.IM_vec0 = 0\n",
    "        self.IM_vec1 = 0\n",
    "        self.IM_mean = 0\n",
    "        self.IM_std = 0\n",
    "        self.FFT_VEC0 = 0\n",
    "        self.FFT_VEC1 = 0\n",
    "        self.FFT_fps = 250\n",
    "        self.FFT_freqs = 0\n",
    "\n",
    "\n",
    "        \n",
    "\n",
    "\n",
    "    "
   ]
  },
  {
   "cell_type": "code",
   "execution_count": 3,
   "id": "33b416ef-338d-4a6b-9f3b-20df989d07e3",
   "metadata": {},
   "outputs": [],
   "source": [
    "def plot(nfile,dir_i):\n",
    "    if dir_i.split('_')[4]=='1':\n",
    "        namefile = 'output_fastcam/'+''.join(dir_i.split('_')[1:4])+'_1.csv'\n",
    "    else:        \n",
    "        namefile = 'output_fastcam/'+''.join(dir_i.split('_')[1:4])+'_0.csv'\n",
    "        \n",
    "    plt.close('all')\n",
    "    print(namefile)\n",
    "    if os.path.isfile(namefile)==False:\n",
    "        fig,ax = plt.subplots()\n",
    "        file_list = np.sort(glob.glob(dir_w+dir_i+'/*.tif'))\n",
    "        if nfile>len(file_list):\n",
    "            nfile = len(file_list)-1\n",
    "        im_ref = tif.imread(file_list[nfile])\n",
    "        ax.imshow(im_ref)\n",
    "        n,m = im_ref.shape\n",
    "        ax.text(int(4*m/5),(n/2),f'snapshot={nfile:01n}',color='w')\n",
    "        ax.set_xlim([0,int(m/2)])\n",
    "        ax.set_ylim([int(n/2),n])\n",
    "        x0 = plt.ginput(-1,timeout=0)\n",
    "        \n",
    "        print(x0)\n",
    "        ax.set_xlim([int(m/2),m])\n",
    "        ax.set_ylim([int(n/2),n])\n",
    "        x1 = plt.ginput(-1,timeout=0) \n",
    "        print(x1)\n",
    "        ax.set_xlim([0,int(m/2)])\n",
    "        ax.set_ylim([0,int(n/2)])\n",
    "        x2 = plt.ginput(-1,timeout=0) \n",
    "        print(x2)\n",
    "        ax.set_xlim([m,int(m/2)])\n",
    "        ax.set_ylim([0,int(n/2)])\n",
    "        x3 = plt.ginput(-1,timeout=0) \n",
    "        print(x3)    \n",
    "        print(dir_i)\n",
    "        x = np.vstack((x0,x1,x2,x3))\n",
    "        A = pd.DataFrame(data=x,index=['x0','x1','x2','x3'])\n",
    "    \n",
    "        A.to_csv(namefile)\n",
    "        \n",
    "        return x\n"
   ]
  },
  {
   "cell_type": "code",
   "execution_count": 4,
   "id": "b01c1b7b-7eeb-4794-a12e-323ce962e7bd",
   "metadata": {},
   "outputs": [],
   "source": [
    "if socket.gethostname() =='pc-i7':\n",
    "    dir_w = '/mnt/sdb4/juan/data_2024/photron/'    \n",
    "else:\n",
    "    dir_w = '/media/juan/JUAN_PMMH/LFD/photron/'\n",
    "dirlist = np.sort(os.listdir(dir_w))\n",
    "dir_i = dirlist[-10]"
   ]
  },
  {
   "cell_type": "code",
   "execution_count": 5,
   "id": "7516ddcb-4522-4903-a137-ad69bc31bd40",
   "metadata": {},
   "outputs": [],
   "source": [
    "matching_t075 = [s for s in dirlist if \"t075\" in s]\n"
   ]
  },
  {
   "cell_type": "code",
   "execution_count": 6,
   "id": "175674c7-1591-4e69-8f46-2561e9ace42b",
   "metadata": {},
   "outputs": [],
   "source": [
    "import scipy as sc\n",
    "import sympy as sp\n",
    "x, y, z = sp.symbols('x y z')\n",
    "eq1 = sp.diff(sp.cos(x)*sp.cosh(x)+1, x)\n",
    "def fun_modn (x):\n",
    "    return np.cosh(x)*np.cos(x)+1\n",
    "    \n",
    "callable_fct = sp.lambdify(x, eq1)"
   ]
  },
  {
   "cell_type": "code",
   "execution_count": 7,
   "id": "5ee33f43-125d-4369-91bf-144686efa576",
   "metadata": {},
   "outputs": [],
   "source": [
    "x_s = np.linspace(1,15,200)\n",
    "y_s = np.zeros_like(x_s)\n",
    "for i,xi in enumerate(x_s):\n",
    "    y_s[i] = fun_modn(xi)\n",
    "signo_s = np.sign(y_s)\n",
    "diff_signo_s = np.diff(signo_s)\n",
    "x0s = x_s[np.nonzero(diff_signo_s)]"
   ]
  },
  {
   "cell_type": "code",
   "execution_count": 8,
   "id": "d81809e9-d119-4774-9a1c-051075678b24",
   "metadata": {},
   "outputs": [],
   "source": [
    "BnL = np.zeros_like(x0s)\n",
    "for i,x0i in enumerate(x0s):\n",
    "    BnL[i] = sc.optimize.fsolve(fun_modn,x0i,fprime=callable_fct)[0]\n",
    "#BnL = np.unique(A.round(decimals=4))"
   ]
  },
  {
   "cell_type": "code",
   "execution_count": 9,
   "id": "85913591-194c-4df5-b33b-61c15acf5881",
   "metadata": {},
   "outputs": [
    {
     "data": {
      "text/plain": [
       "[<matplotlib.lines.Line2D at 0x7c0d62b4e5a0>]"
      ]
     },
     "execution_count": 9,
     "metadata": {},
     "output_type": "execute_result"
    },
    {
     "data": {
      "application/vnd.jupyter.widget-view+json": {
       "model_id": "1322add72b5b4757971d0aae73cdbb86",
       "version_major": 2,
       "version_minor": 0
      },
      "image/png": "[encoded data removed]",
      "text/html": [
       "\n",
       "            <div style=\"display: inline-block;\">\n",
       "                <div class=\"jupyter-widgets widget-label\" style=\"text-align: center;\">\n",
       "                    Figure\n",
       "                </div>\n",
       "                <img src='data:image/png;base64,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' width=300.0/>\n",
       "            </div>\n",
       "        "
      ],
      "text/plain": [
       "Canvas(toolbar=Toolbar(toolitems=[('Home', 'Reset original view', 'home', 'home'), ('Back', 'Back to previous …"
      ]
     },
     "metadata": {},
     "output_type": "display_data"
    }
   ],
   "source": [
    "fig,ax = plt.subplots(figsize=(3,3))\n",
    "ax.plot(x_s,y_s)\n",
    "ax.plot(BnL,fun_modn(BnL),marker='o',linestyle='none')\n"
   ]
  },
  {
   "cell_type": "code",
   "execution_count": 10,
   "id": "36409c6c-beb1-4765-9d18-213f9941e172",
   "metadata": {},
   "outputs": [
    {
     "data": {
      "text/plain": [
       "array([ 1.87510407,  4.69409113,  7.85475744, 10.99554073, 14.13716839])"
      ]
     },
     "execution_count": 10,
     "metadata": {},
     "output_type": "execute_result"
    }
   ],
   "source": [
    "BnL"
   ]
  },
  {
   "cell_type": "code",
   "execution_count": 11,
   "id": "6ac7422a-4fed-4cf3-8033-f6c0123548a3",
   "metadata": {},
   "outputs": [],
   "source": [
    "#collect data from images\n",
    "\n",
    "dirout = 'fastcam_objs/'\n",
    "lista_casos = np.sort(glob.glob('output_fastcam/*.csv'))"
   ]
  },
  {
   "cell_type": "code",
   "execution_count": 12,
   "id": "edec3d81-efed-42ac-ae59-3d5f359d2dd9",
   "metadata": {},
   "outputs": [
    {
     "data": {
      "text/plain": [
       "array(['output_fastcam/t050L075v0_0.csv',\n",
       "       'output_fastcam/t050L075v40_0.csv',\n",
       "       'output_fastcam/t050L075v42_0.csv',\n",
       "       'output_fastcam/t050L075v44_0.csv',\n",
       "       'output_fastcam/t050L075v46_0.csv',\n",
       "       'output_fastcam/t050L075v48_0.csv',\n",
       "       'output_fastcam/t050L075v50_0.csv',\n",
       "       'output_fastcam/t050L075v52_0.csv',\n",
       "       'output_fastcam/t050L075v54_0.csv',\n",
       "       'output_fastcam/t050L075v56_0.csv',\n",
       "       'output_fastcam/t050L100v40_0.csv',\n",
       "       'output_fastcam/t050L100v40_1.csv',\n",
       "       'output_fastcam/t050L100v42_0.csv',\n",
       "       'output_fastcam/t050L100v42_1.csv',\n",
       "       'output_fastcam/t050L100v44_0.csv',\n",
       "       'output_fastcam/t050L100v44_1.csv',\n",
       "       'output_fastcam/t050L100v46_0.csv',\n",
       "       'output_fastcam/t050L100v46_1.csv',\n",
       "       'output_fastcam/t050L100v48_0.csv',\n",
       "       'output_fastcam/t050L100v48_1.csv',\n",
       "       'output_fastcam/t050L100v50_0.csv',\n",
       "       'output_fastcam/t050L100v50_1.csv',\n",
       "       'output_fastcam/t050L100v52_0.csv',\n",
       "       'output_fastcam/t050L100v52_1.csv',\n",
       "       'output_fastcam/t050L100v54_0.csv',\n",
       "       'output_fastcam/t050L100v54_1.csv',\n",
       "       'output_fastcam/t050L100v56_0.csv',\n",
       "       'output_fastcam/t050L100v56_1.csv',\n",
       "       'output_fastcam/t050L125v40_0.csv',\n",
       "       'output_fastcam/t050L125v42_0.csv',\n",
       "       'output_fastcam/t050L125v44_0.csv',\n",
       "       'output_fastcam/t050L125v46_0.csv',\n",
       "       'output_fastcam/t050L125v48_0.csv',\n",
       "       'output_fastcam/t050L125v50_0.csv',\n",
       "       'output_fastcam/t050L125v52_0.csv',\n",
       "       'output_fastcam/t050L125v54_0.csv',\n",
       "       'output_fastcam/t050L125v54_1.csv',\n",
       "       'output_fastcam/t050L125v56_0.csv',\n",
       "       'output_fastcam/t050L150v0_0.csv',\n",
       "       'output_fastcam/t050L150v40_0.csv',\n",
       "       'output_fastcam/t050L150v40_1.csv',\n",
       "       'output_fastcam/t050L150v42_0.csv',\n",
       "       'output_fastcam/t050L150v42_1.csv',\n",
       "       'output_fastcam/t050L150v44_0.csv',\n",
       "       'output_fastcam/t050L150v44_1.csv',\n",
       "       'output_fastcam/t050L150v46_0.csv',\n",
       "       'output_fastcam/t050L150v46_1.csv',\n",
       "       'output_fastcam/t050L150v48_0.csv',\n",
       "       'output_fastcam/t050L150v48_1.csv',\n",
       "       'output_fastcam/t050L150v50_0.csv',\n",
       "       'output_fastcam/t050L150v50_1.csv',\n",
       "       'output_fastcam/t050L150v52_0.csv',\n",
       "       'output_fastcam/t050L150v52_1.csv',\n",
       "       'output_fastcam/t050L150v54_0.csv',\n",
       "       'output_fastcam/t050L150v54_1.csv',\n",
       "       'output_fastcam/t050L150v56_0.csv',\n",
       "       'output_fastcam/t050L150v56_1.csv',\n",
       "       'output_fastcam/t075L075v0_0.csv',\n",
       "       'output_fastcam/t075L075v40_0.csv',\n",
       "       'output_fastcam/t075L075v42_0.csv',\n",
       "       'output_fastcam/t075L075v44_0.csv',\n",
       "       'output_fastcam/t075L075v46_0.csv',\n",
       "       'output_fastcam/t075L075v48_0.csv',\n",
       "       'output_fastcam/t075L075v50_0.csv',\n",
       "       'output_fastcam/t075L075v52_0.csv',\n",
       "       'output_fastcam/t075L075v54_0.csv',\n",
       "       'output_fastcam/t075L075v56_0.csv',\n",
       "       'output_fastcam/t075L100v0_0.csv',\n",
       "       'output_fastcam/t075L100v40_0.csv',\n",
       "       'output_fastcam/t075L100v42_0.csv',\n",
       "       'output_fastcam/t075L100v44_0.csv',\n",
       "       'output_fastcam/t075L100v46_0.csv',\n",
       "       'output_fastcam/t075L100v48_0.csv',\n",
       "       'output_fastcam/t075L100v50_0.csv',\n",
       "       'output_fastcam/t075L100v52_0.csv',\n",
       "       'output_fastcam/t075L100v54_0.csv',\n",
       "       'output_fastcam/t075L100v56_0.csv',\n",
       "       'output_fastcam/t075L125v40_0.csv',\n",
       "       'output_fastcam/t075L125v40_1.csv',\n",
       "       'output_fastcam/t075L125v42_0.csv',\n",
       "       'output_fastcam/t075L125v42_1.csv',\n",
       "       'output_fastcam/t075L125v44_0.csv',\n",
       "       'output_fastcam/t075L125v44_1.csv',\n",
       "       'output_fastcam/t075L125v46_0.csv',\n",
       "       'output_fastcam/t075L125v46_1.csv',\n",
       "       'output_fastcam/t075L125v48_0.csv',\n",
       "       'output_fastcam/t075L125v48_1.csv',\n",
       "       'output_fastcam/t075L125v50_0.csv',\n",
       "       'output_fastcam/t075L125v50_1.csv',\n",
       "       'output_fastcam/t075L125v52_0.csv',\n",
       "       'output_fastcam/t075L125v52_1.csv',\n",
       "       'output_fastcam/t075L125v54_0.csv',\n",
       "       'output_fastcam/t075L125v54_1.csv',\n",
       "       'output_fastcam/t075L125v56_0.csv',\n",
       "       'output_fastcam/t075L125v56_1.csv',\n",
       "       'output_fastcam/t075L150v0_0.csv',\n",
       "       'output_fastcam/t075L150v40_0.csv',\n",
       "       'output_fastcam/t075L150v42_0.csv',\n",
       "       'output_fastcam/t075L150v44_0.csv',\n",
       "       'output_fastcam/t075L150v46_0.csv',\n",
       "       'output_fastcam/t075L150v48_0.csv',\n",
       "       'output_fastcam/t075L150v50_0.csv',\n",
       "       'output_fastcam/t075L150v52_0.csv',\n",
       "       'output_fastcam/t075L150v54_0.csv',\n",
       "       'output_fastcam/t075L150v56_0.csv',\n",
       "       'output_fastcam/t1000L075v0_0.csv',\n",
       "       'output_fastcam/t1000L100v0_0.csv',\n",
       "       'output_fastcam/t1000L100v0_1.csv',\n",
       "       'output_fastcam/t1000L125v0_0.csv',\n",
       "       'output_fastcam/t1000L150v0_0.csv'], dtype='<U32')"
      ]
     },
     "execution_count": 12,
     "metadata": {},
     "output_type": "execute_result"
    }
   ],
   "source": []
  },
  {
   "cell_type": "code",
   "execution_count": null,
   "id": "618cbc30-1d65-4231-909f-08a65de83c17",
   "metadata": {},
   "outputs": [],
   "source": [
    "time0= time.time()\n",
    "for i, casoi in enumerate(lista_casos[:]):\n",
    "    print(casoi)\n",
    "    print(time.time()-time0)\n",
    "    A = pd.read_csv(casoi,index_col=0).to_numpy()\n",
    "    thickn = casoi.split('/')[-1].split('t')[-1][:3]\n",
    "    Length = casoi.split('/')[-1].split('L')[-1][:3]\n",
    "    Veloc = casoi.split('/')[-1].split('v')[1][:2].split('_')[0]\n",
    "    name =  't'+thickn+'_L'+Length+'_v'+Veloc\n",
    "    matching = [s for s in dirlist if name in s]\n",
    "    for file_im in matching[:]:\n",
    "        caso = camfast(file_im)\n",
    "        nameout = dirout+caso.dir+'.pickle'\n",
    "        if os.path.isfile(nameout)==False:\n",
    "            print('Serie '+caso.dir  )\n",
    "            lista_imgs = np.sort(glob.glob(dir_w+file_im+'/*.tif'))\n",
    "            x0a = A[np.argsort(A[:,0])[:2]]\n",
    "            x0b = A[np.argsort(A[:,0])[2:]]\n",
    "            x1,x2 = x0a[np.argsort(x0a[:,1])[:2]]\n",
    "            x3,x4 = x0b[np.argsort(x0b[:,1])[:2]]\n",
    "            caso.coords = [x1,x2,x3,x4]\n",
    "            Nfiles = len(lista_imgs)\n",
    "            ncolumn = 30\n",
    "            vec_0, vec_1 = np.zeros((2,Nfiles,2*ncolumn))\n",
    "            nxmin = int(np.min((x1[0],x2[0])))\n",
    "            nxmax = int(np.max((x3[0],x4[0])))\n",
    "            nfile = np.abs(nxmax-nxmin)\n",
    "            #IM0,IM1 = np.zeros((2,Nfiles,2*ncolumn,nfile))\n",
    "            for i, filei in enumerate(lista_imgs[:]):\n",
    "                IM = tif.imread(filei)\n",
    "                if i==0:\n",
    "                    IM_m = IM\n",
    "                else:\n",
    "                    IM_m += IM\n",
    "                #IM0[i] = IM [int(x1[1])-ncolumn:int(x1[1])+ncolumn,nxmin:nxmin+nfile]\n",
    "                vec_0[i] = IM [int(x1[1])-ncolumn:int(x1[1])+ncolumn,int(x1[0])]\n",
    "                vec_1[i] = IM [int(x2[1])-ncolumn:int(x2[1])+ncolumn,int(x2[0])]\n",
    "            caso.IM_vec0 = vec_0\n",
    "            caso.IM_vec1 = vec_1\n",
    "            caso.IM_mean = IM_m\n",
    "            VEC_0 = np.fft.fft(vec_0-vec_0.mean(0),axis=0)\n",
    "            VEC_1 = np.fft.fft(vec_1-vec_1.mean(0),axis=0)\n",
    "            freqs = np.fft.fftfreq(len(vec_0),1/250)\n",
    "            caso.FFT_VEC0= VEC_0\n",
    "            caso.FFT_VEC1= VEC_1\n",
    "            caso.FFT_freqs = freqs\n",
    "            \n",
    "            nameout = dirout+caso.dir+'.pickle'\n",
    "            with open(nameout, 'wb') as handle:\n",
    "                pickle.dump(caso, handle, protocol=pickle.HIGHEST_PROTOCOL)\n",
    "            print(f'tiempo {time.time()-time0:.1f}seg.')\n",
    "        else:\n",
    "            print('Caso guardado')\n",
    "    \n",
    "\n",
    "\n"
   ]
  },
  {
   "cell_type": "code",
   "execution_count": null,
   "id": "4e962cba-543b-4d09-9418-1cae9b3305a4",
   "metadata": {},
   "outputs": [],
   "source": [
    "caso.dir"
   ]
  },
  {
   "cell_type": "code",
   "execution_count": null,
   "id": "0189be5f-6d9b-4628-ac16-1ea017c57775",
   "metadata": {},
   "outputs": [],
   "source": [
    "time0 = time.time()\n"
   ]
  },
  {
   "cell_type": "code",
   "execution_count": null,
   "id": "db99551d-e7c8-49a4-bb98-f3d9e72242e3",
   "metadata": {},
   "outputs": [],
   "source": [
    "fig,ax = plt.subplots(figsize=(5,3))\n",
    "ax.contour(caso.IM_vec0.T,colors='k')"
   ]
  },
  {
   "cell_type": "code",
   "execution_count": null,
   "id": "2bf3baba-4501-4e9a-8e38-b9febe435820",
   "metadata": {},
   "outputs": [],
   "source": [
    "\n"
   ]
  },
  {
   "cell_type": "code",
   "execution_count": null,
   "id": "f0069455-0645-4ba0-b52b-479e60d2e5e0",
   "metadata": {},
   "outputs": [],
   "source": [
    "fig,ax = plt.subplots()\n",
    "ax.contourf(caso.IM_mean.T)"
   ]
  },
  {
   "cell_type": "code",
   "execution_count": null,
   "id": "e0850fe2-cbd5-4dae-af80-a9e4d11f9650",
   "metadata": {},
   "outputs": [],
   "source": [
    "plt.subplots()\n",
    "ax.imshow(IM0[0].T)"
   ]
  },
  {
   "cell_type": "code",
   "execution_count": null,
   "id": "f4b1dfa3-f016-45d1-9970-03a69ea1e75f",
   "metadata": {},
   "outputs": [],
   "source": [
    "fig0,ax0 = plt.subplots(figsize=(5,2))\n",
    "ax0.contourf(vec_2.T,cmap='binary')\n",
    "\n",
    "\n",
    "ax0.set_xlabel('$N_{image}$')\n",
    "ax0.set_ylabel('pixels')  \n",
    "ax0.set_xlabel('$N_{image}$');\n",
    "ax0.grid()"
   ]
  },
  {
   "cell_type": "code",
   "execution_count": null,
   "id": "b1c6d2a1-9d34-4a50-abf4-b83029e095bd",
   "metadata": {},
   "outputs": [],
   "source": [
    "casoi"
   ]
  },
  {
   "cell_type": "code",
   "execution_count": null,
   "id": "d82335f4-923a-495a-8642-fa3af3a0ef56",
   "metadata": {},
   "outputs": [],
   "source": [
    "B = tif.imread(lista_imgs[0])\n",
    "fig,ax = plt.subplots()\n",
    "ax.imshow(B)\n",
    "for i,Ai in enumerate(A):\n",
    "    ax.plot(Ai[0],Ai[1],'wo',markersize=(i+1)*2)\n",
    "\n",
    "Nfiles = 2000\n",
    "ncolumn = 20\n",
    "vec_1, vec_2 = np.zeros((2,Nfiles,2*ncolumn))\n",
    "for i, filei in enumerate(file_list[:Nfiles]):\n",
    "    A = tif.imread(filei)\n",
    "    vec_1[i] = A [y1-ncolumn:y1+ncolumn,x1]\n",
    "    vec_2[i] = A [y2-ncolumn:y2+ncolumn,x2]\n",
    "    \n"
   ]
  },
  {
   "cell_type": "code",
   "execution_count": null,
   "id": "8511e78e-86fc-46c9-9250-2da2d49c9ffa",
   "metadata": {},
   "outputs": [],
   "source": []
  },
  {
   "cell_type": "code",
   "execution_count": null,
   "id": "66f91eac-d096-4644-a34c-082956c6391e",
   "metadata": {},
   "outputs": [],
   "source": []
  },
  {
   "cell_type": "code",
   "execution_count": null,
   "id": "155d260f-f038-46f3-88e8-5ab5436ca938",
   "metadata": {},
   "outputs": [],
   "source": [
    "matching = [s for s in dirlist if name in s]"
   ]
  },
  {
   "cell_type": "code",
   "execution_count": null,
   "id": "11b84d96-3741-4c0a-bf25-620032ed9a13",
   "metadata": {},
   "outputs": [],
   "source": [
    "matching"
   ]
  },
  {
   "cell_type": "code",
   "execution_count": null,
   "id": "518a7848-ba22-4229-9c2f-8754b9c3ef9a",
   "metadata": {},
   "outputs": [],
   "source": [
    "casoi.split('/')[-1][:-4]"
   ]
  },
  {
   "cell_type": "code",
   "execution_count": null,
   "id": "982e6f34-836a-4db5-8614-124a047d13ba",
   "metadata": {},
   "outputs": [],
   "source": [
    "dirlist"
   ]
  },
  {
   "cell_type": "code",
   "execution_count": null,
   "id": "90f4be25-1d73-492c-8a69-722b4fb42249",
   "metadata": {},
   "outputs": [],
   "source": []
  }
 ],
 "metadata": {
  "kernelspec": {
   "display_name": "Python 3 (ipykernel)",
   "language": "python",
   "name": "python3"
  },
  "language_info": {
   "codemirror_mode": {
    "name": "ipython",
    "version": 3
   },
   "file_extension": ".py",
   "mimetype": "text/x-python",
   "name": "python",
   "nbconvert_exporter": "python",
   "pygments_lexer": "ipython3",
   "version": "3.12.2"
  }
 },
 "nbformat": 4,
 "nbformat_minor": 5
}
