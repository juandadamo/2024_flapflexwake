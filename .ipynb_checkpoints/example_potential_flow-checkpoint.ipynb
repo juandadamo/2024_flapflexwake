{
 "cells": [
  {
   "cell_type": "code",
   "execution_count": 1,
   "id": "0a80ed9b-6c51-4d1b-a925-77bc08c7ea7b",
   "metadata": {},
   "outputs": [],
   "source": [
    "import numpy as np\n",
    "import matplotlib.pyplot as plt"
   ]
  },
  {
   "cell_type": "code",
   "execution_count": 3,
   "id": "93e3c925-229a-458f-a00c-20dd9b984a5d",
   "metadata": {},
   "outputs": [],
   "source": [
    "def get_velocity_source(x,y,x0,y0,sigma):\n",
    "\n",
    "#Escribo el campo de velocidades\n",
    "\tu=sigma/(2*np.pi)*(x-x0)/((x-x0)**2+(y-y0)**2)\n",
    "\tv=sigma/(2*np.pi)*(y-y0)/((x-x0)**2+(y-y0)**2)\n",
    "\treturn u,v\n",
    "\n",
    "def get_psi_source(x,y,x0,y0,sigma):\n",
    "\tpsi=sigma/(2*np.pi)*np.arctan2((y-y0),(x-x0))\n",
    "\treturn psi"
   ]
  },
  {
   "cell_type": "code",
   "execution_count": 5,
   "id": "b3d184fa-8f26-49bb-8c7d-f82033ab07f0",
   "metadata": {},
   "outputs": [],
   "source": [
    "N=70 \n",
    "x_start , x_end=-10,10\n",
    "y_start, y_end=-8,8\n",
    "#armo los array para x e y\n",
    "x=np.linspace(x_start,x_end,N)\n",
    "y=np.linspace(y_start,y_end,N)\n",
    "\n",
    "X,Y =np.meshgrid(x,y) #arma la grilla con ambos arrays 1D"
   ]
  },
  {
   "cell_type": "code",
   "execution_count": 6,
   "id": "56961560-12e8-40ac-8b2d-652e9d68236d",
   "metadata": {},
   "outputs": [
    {
     "ename": "NameError",
     "evalue": "name 'u_tras' is not defined",
     "output_type": "error",
     "traceback": [
      "\u001b[0;31m---------------------------------------------------------------------------\u001b[0m",
      "\u001b[0;31mNameError\u001b[0m                                 Traceback (most recent call last)",
      "Cell \u001b[0;32mIn[6], line 9\u001b[0m\n\u001b[1;32m      6\u001b[0m psi_fuente\u001b[38;5;241m=\u001b[39mget_psi_source(X,Y,x_f,y_f,intensidad)\n\u001b[1;32m      7\u001b[0m psi_sum\u001b[38;5;241m=\u001b[39mget_psi_source(X,Y,x_s,y_s,\u001b[38;5;241m-\u001b[39mintensidad)\n\u001b[0;32m----> 9\u001b[0m u_cil\u001b[38;5;241m=\u001b[39mu_fuente\u001b[38;5;241m+\u001b[39mu_sum\u001b[38;5;241m+\u001b[39mu_tras\n\u001b[1;32m     10\u001b[0m v_cil\u001b[38;5;241m=\u001b[39mv_fuente\u001b[38;5;241m+\u001b[39mv_sum\u001b[38;5;241m+\u001b[39mv_tras\n\u001b[1;32m     11\u001b[0m psi_cil\u001b[38;5;241m=\u001b[39mpsi_fuente\u001b[38;5;241m+\u001b[39mpsi_sum\u001b[38;5;241m+\u001b[39mpsi_tras\n",
      "\u001b[0;31mNameError\u001b[0m: name 'u_tras' is not defined"
     ]
    }
   ],
   "source": [
    "x_f,y_f=-0.2,0.0  #Posición de la fuente\n",
    "x_s,y_s=0.0,0.0   #Posición del sumidero\n",
    "intensidad=300\n",
    "u_fuente, v_fuente=get_velocity_source(X,Y,x_f,y_f,intensidad) \n",
    "u_sum,v_sum=get_velocity_source(X,Y,x_s,y_s,-intensidad)\n",
    "psi_fuente=get_psi_source(X,Y,x_f,y_f,intensidad)\n",
    "psi_sum=get_psi_source(X,Y,x_s,y_s,-intensidad)\n",
    "\n",
    "u_cil=u_fuente+u_sum+u_tras\n",
    "v_cil=v_fuente+v_sum+v_tras\n",
    "psi_cil=psi_fuente+psi_sum+psi_tras\n",
    "\n",
    "#Ploteo\n",
    "\n",
    "width=10\n",
    "height=(y_end-y_start)/(x_end-x_start) * width\n",
    "plt.figure ( figsize =( width , height ))\n",
    "plt.xlabel (\"x\", fontsize =16) # Label eje x\n",
    "plt.ylabel (\"y\", fontsize =16) # Label eje y\n",
    "plt.xlim ( x_start , x_end ) # Rango eje x\n",
    "plt.ylim ( y_start , y_end ) # Rango eje y\n",
    "\n",
    "plt.streamplot (X , Y , u_cil , v_cil ,\n",
    "density =1.5 , linewidth =1 , arrowsize =1 , arrowstyle =\"->\")\n",
    "plt.contour(X,Y,psi_cil,levels=[-0.01,0.01],colors=\"Red\", linewidths=2, linestyles=\"solid\")"
   ]
  },
  {
   "cell_type": "code",
   "execution_count": null,
   "id": "338a635d-4916-4bba-9d75-bea01ff2d5f0",
   "metadata": {},
   "outputs": [],
   "source": []
  }
 ],
 "metadata": {
  "kernelspec": {
   "display_name": "Python 3 (ipykernel)",
   "language": "python",
   "name": "python3"
  },
  "language_info": {
   "codemirror_mode": {
    "name": "ipython",
    "version": 3
   },
   "file_extension": ".py",
   "mimetype": "text/x-python",
   "name": "python",
   "nbconvert_exporter": "python",
   "pygments_lexer": "ipython3",
   "version": "3.12.2"
  }
 },
 "nbformat": 4,
 "nbformat_minor": 5
}
