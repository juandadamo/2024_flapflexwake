{
 "cells": [
  {
   "cell_type": "code",
   "execution_count": null,
   "id": "619930ae-15c0-4e83-887d-fa218ace418c",
   "metadata": {},
   "outputs": [],
   "source": []
  }
 ],
 "metadata": {
  "kernelspec": {
   "display_name": "",
   "name": ""
  },
  "language_info": {
   "name": ""
  }
 },
 "nbformat": 4,
 "nbformat_minor": 5
}
