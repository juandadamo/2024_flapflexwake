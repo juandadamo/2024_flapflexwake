{
 "cells": [
  {
   "cell_type": "code",
   "execution_count": 4,
   "id": "1276a979-dbd1-48cf-9db6-8c4388414805",
   "metadata": {},
   "outputs": [],
   "source": [
    "import CoolProp as cp\n",
    "import ht \n",
    "import numpy as np\n",
    "import matplotlib.pyplot as plt"
   ]
  },
  {
   "cell_type": "code",
   "execution_count": 7,
   "id": "35dfd40e-9fb3-408f-955d-895eb837e507",
   "metadata": {},
   "outputs": [
    {
     "data": {
      "text/plain": [
       "321.3675271701093"
      ]
     },
     "execution_count": 7,
     "metadata": {},
     "output_type": "execute_result"
    }
   ],
   "source": [
    "cp.CoolProp.PropsSI('T','P',11.3e3,'Q',1,'Water')"
   ]
  },
  {
   "cell_type": "code",
   "execution_count": null,
   "id": "6ba2311e-953d-4543-a3a4-4f4afaa75e3b",
   "metadata": {},
   "outputs": [],
   "source": []
  }
 ],
 "metadata": {
  "kernelspec": {
   "display_name": "Python 3 (ipykernel)",
   "language": "python",
   "name": "python3"
  },
  "language_info": {
   "codemirror_mode": {
    "name": "ipython",
    "version": 3
   },
   "file_extension": ".py",
   "mimetype": "text/x-python",
   "name": "python",
   "nbconvert_exporter": "python",
   "pygments_lexer": "ipython3",
   "version": "3.10.9"
  }
 },
 "nbformat": 4,
 "nbformat_minor": 5
}
