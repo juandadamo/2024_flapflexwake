{
 "cells": [
  {
   "cell_type": "code",
   "execution_count": 1,
   "id": "381cdb99-d201-458d-898a-222c8d6388c2",
   "metadata": {},
   "outputs": [],
   "source": [
    "import numpy as np"
   ]
  },
  {
   "cell_type": "code",
   "execution_count": null,
   "id": "16afd67f-2fed-4127-9c7c-9b530c19cb07",
   "metadata": {},
   "outputs": [],
   "source": []
  },
  {
   "cell_type": "markdown",
   "id": "88eb245c-4df7-427c-b1f2-a2f870a9c46a",
   "metadata": {},
   "source": [
    "# Peso del material flexible"
   ]
  },
  {
   "cell_type": "code",
   "execution_count": 2,
   "id": "940a278d-46f7-4cf4-bdf5-bade17f1292c",
   "metadata": {},
   "outputs": [],
   "source": [
    "# peso del clip\n",
    "mc = 0.33e-3"
   ]
  },
  {
   "cell_type": "code",
   "execution_count": 3,
   "id": "fa112d82-802f-40f2-8b9e-2e4ec0962a03",
   "metadata": {},
   "outputs": [],
   "source": [
    "#50 μm \n",
    "\n",
    "Vol_50_0 = 330*100*1e-6*50e-6\n",
    "m_50_0 = 2.460e-3-mc\n",
    "\n",
    "Vol_50_1 = 300*100*1e-6*50e-6\n",
    "m_50_1 = 2.30e-3-mc\n",
    "\n",
    "Vol_50_2 = 200*100*1e-6*50e-6\n",
    "m_50_2 = 1.64e-3-mc\n",
    "\n",
    "Vol_50_3 = 100*100*1e-6*50e-6\n",
    "m_50_3 = 1.14e-3-mc\n",
    "\n",
    "\n",
    "rho_50_0 = m_50_0/Vol_50_0\n",
    "rho_50_1 = m_50_1/Vol_50_1\n",
    "rho_50_2 = m_50_2/Vol_50_2\n",
    "rho_50_3 = m_50_3/Vol_50_3\n",
    "#75 μm \n",
    "\n",
    "Vol_75_0 = 240*80*1e-6*75e-6\n",
    "m_75_0 = 3.08e-3-mc\n",
    "\n",
    "rho_75_0 = m_75_0/Vol_75_0\n",
    "\n",
    "Vol_75_1 = 220*80*1e-6*75e-6\n",
    "m_75_1 = 2.83e-3-mc\n",
    "rho_75_1 = m_75_1/Vol_75_1 \n"
   ]
  },
  {
   "cell_type": "code",
   "execution_count": 4,
   "id": "47778546-760b-484e-90e9-a09bef029f37",
   "metadata": {},
   "outputs": [
    {
     "data": {
      "text/plain": [
       "(1290.9090909090908,\n",
       " 1313.3333333333333,\n",
       " 1309.9999999999998,\n",
       " 1619.9999999999995,\n",
       " 1909.7222222222224,\n",
       " 1893.9393939393944)"
      ]
     },
     "execution_count": 4,
     "metadata": {},
     "output_type": "execute_result"
    }
   ],
   "source": [
    "rho_50_0,rho_50_1,rho_50_2,rho_50_3,rho_75_0,rho_75_1"
   ]
  },
  {
   "cell_type": "markdown",
   "id": "0952e320-f579-4cd5-85ec-c0bd775144e8",
   "metadata": {},
   "source": [
    "# Rigidez a la Flexion de laminas, Stuart 1966"
   ]
  },
  {
   "cell_type": "code",
   "execution_count": 5,
   "id": "1ef77371-241d-4002-833d-008af5842e14",
   "metadata": {},
   "outputs": [],
   "source": [
    "y1_50 = 37e-3\n",
    "y1_75 = 50e-3\n",
    "\n"
   ]
  },
  {
   "cell_type": "code",
   "execution_count": 10,
   "id": "2811ff74-5a62-4339-a235-5bfa19fe0fa8",
   "metadata": {},
   "outputs": [
    {
     "data": {
      "text/plain": [
       "1901.8308080808083"
      ]
     },
     "execution_count": 10,
     "metadata": {},
     "output_type": "execute_result"
    }
   ],
   "source": [
    "(rho_75_0+rho_75_1)/2"
   ]
  },
  {
   "cell_type": "code",
   "execution_count": null,
   "id": "79ddddae-01a6-4ac5-9a63-efe942793b2c",
   "metadata": {},
   "outputs": [],
   "source": []
  }
 ],
 "metadata": {
  "kernelspec": {
   "display_name": "Python 3 (ipykernel)",
   "language": "python",
   "name": "python3"
  },
  "language_info": {
   "codemirror_mode": {
    "name": "ipython",
    "version": 3
   },
   "file_extension": ".py",
   "mimetype": "text/x-python",
   "name": "python",
   "nbconvert_exporter": "python",
   "pygments_lexer": "ipython3",
   "version": "3.10.9"
  }
 },
 "nbformat": 4,
 "nbformat_minor": 5
}
