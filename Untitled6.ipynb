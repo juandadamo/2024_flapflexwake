{
 "cells": [
  {
   "cell_type": "code",
   "execution_count": 1,
   "id": "b9f2ae61-79e9-44b7-bf43-fd5453042d8e",
   "metadata": {},
   "outputs": [
    {
     "ename": "ExecutableNotFound",
     "evalue": "mvn not found on path /home/juan/.anaconda3/bin/:/usr/local/sbin:/usr/local/bin:/usr/sbin:/usr/bin:/sbin:/bin:/usr/games:/usr/local/games:/snap/bin:/snap/bin",
     "output_type": "error",
     "traceback": [
      "\u001b[0;31m---------------------------------------------------------------------------\u001b[0m",
      "\u001b[0;31mExecutableNotFound\u001b[0m                        Traceback (most recent call last)",
      "Cell \u001b[0;32mIn[1], line 2\u001b[0m\n\u001b[1;32m      1\u001b[0m \u001b[38;5;28;01mimport\u001b[39;00m \u001b[38;5;21;01mimagej\u001b[39;00m\n\u001b[0;32m----> 2\u001b[0m ij \u001b[38;5;241m=\u001b[39m \u001b[43mimagej\u001b[49m\u001b[38;5;241;43m.\u001b[39;49m\u001b[43minit\u001b[49m\u001b[43m(\u001b[49m\u001b[43m)\u001b[49m\n\u001b[1;32m      4\u001b[0m \u001b[38;5;66;03m# Load an image.\u001b[39;00m\n\u001b[1;32m      5\u001b[0m image_url \u001b[38;5;241m=\u001b[39m \u001b[38;5;124m'\u001b[39m\u001b[38;5;124mhttps://imagej.net/images/clown.jpg\u001b[39m\u001b[38;5;124m'\u001b[39m\n",
      "File \u001b[0;32m~/anaconda3/lib/python3.10/site-packages/imagej/__init__.py:1211\u001b[0m, in \u001b[0;36minit\u001b[0;34m(ij_dir_or_version_or_endpoint, mode, add_legacy, headless)\u001b[0m\n\u001b[1;32m   1208\u001b[0m     \u001b[38;5;28;01mraise\u001b[39;00m \u001b[38;5;167;01mEnvironmentError\u001b[39;00m(\u001b[38;5;124m\"\u001b[39m\u001b[38;5;124mSorry, the interactive mode is not available on macOS.\u001b[39m\u001b[38;5;124m\"\u001b[39m)\n\u001b[1;32m   1210\u001b[0m \u001b[38;5;28;01mif\u001b[39;00m \u001b[38;5;129;01mnot\u001b[39;00m sj\u001b[38;5;241m.\u001b[39mjvm_started():\n\u001b[0;32m-> 1211\u001b[0m     success \u001b[38;5;241m=\u001b[39m \u001b[43m_create_jvm\u001b[49m\u001b[43m(\u001b[49m\u001b[43mij_dir_or_version_or_endpoint\u001b[49m\u001b[43m,\u001b[49m\u001b[43m \u001b[49m\u001b[43mmode\u001b[49m\u001b[43m,\u001b[49m\u001b[43m \u001b[49m\u001b[43madd_legacy\u001b[49m\u001b[43m)\u001b[49m\n\u001b[1;32m   1212\u001b[0m     \u001b[38;5;28;01mif\u001b[39;00m \u001b[38;5;129;01mnot\u001b[39;00m success:\n\u001b[1;32m   1213\u001b[0m         \u001b[38;5;28;01mraise\u001b[39;00m \u001b[38;5;167;01mRuntimeError\u001b[39;00m(\u001b[38;5;124m\"\u001b[39m\u001b[38;5;124mFailed to create a JVM with the requested environment.\u001b[39m\u001b[38;5;124m\"\u001b[39m)\n",
      "File \u001b[0;32m~/anaconda3/lib/python3.10/site-packages/imagej/__init__.py:1449\u001b[0m, in \u001b[0;36m_create_jvm\u001b[0;34m(ij_dir_or_version_or_endpoint, mode, add_legacy)\u001b[0m\n\u001b[1;32m   1446\u001b[0m sj\u001b[38;5;241m.\u001b[39mconfig\u001b[38;5;241m.\u001b[39mendpoints\u001b[38;5;241m.\u001b[39mextend(original_endpoints)\n\u001b[1;32m   1448\u001b[0m \u001b[38;5;28;01mtry\u001b[39;00m:\n\u001b[0;32m-> 1449\u001b[0m     \u001b[43msj\u001b[49m\u001b[38;5;241;43m.\u001b[39;49m\u001b[43mstart_jvm\u001b[49m\u001b[43m(\u001b[49m\u001b[43m)\u001b[49m\n\u001b[1;32m   1450\u001b[0m \u001b[38;5;28;01mexcept\u001b[39;00m subprocess\u001b[38;5;241m.\u001b[39mCalledProcessError \u001b[38;5;28;01mas\u001b[39;00m e:\n\u001b[1;32m   1451\u001b[0m     \u001b[38;5;66;03m# Check to see if initialization failed due to \"un-managed\"\u001b[39;00m\n\u001b[1;32m   1452\u001b[0m     \u001b[38;5;66;03m# imagej-legacy\u001b[39;00m\n\u001b[1;32m   1453\u001b[0m     err_lines \u001b[38;5;241m=\u001b[39m []\n",
      "File \u001b[0;32m~/anaconda3/lib/python3.10/site-packages/scyjava/_jvm.py:138\u001b[0m, in \u001b[0;36mstart_jvm\u001b[0;34m(options)\u001b[0m\n\u001b[1;32m    136\u001b[0m     endpoints \u001b[38;5;241m=\u001b[39m endpoints[:\u001b[38;5;241m1\u001b[39m] \u001b[38;5;241m+\u001b[39m \u001b[38;5;28msorted\u001b[39m(endpoints[\u001b[38;5;241m1\u001b[39m:])\n\u001b[1;32m    137\u001b[0m     _logger\u001b[38;5;241m.\u001b[39mdebug(\u001b[38;5;124m\"\u001b[39m\u001b[38;5;124mUsing endpoints \u001b[39m\u001b[38;5;132;01m%s\u001b[39;00m\u001b[38;5;124m\"\u001b[39m, endpoints)\n\u001b[0;32m--> 138\u001b[0m     _, workspace \u001b[38;5;241m=\u001b[39m \u001b[43mjgo\u001b[49m\u001b[38;5;241;43m.\u001b[39;49m\u001b[43mresolve_dependencies\u001b[49m\u001b[43m(\u001b[49m\n\u001b[1;32m    139\u001b[0m \u001b[43m        \u001b[49m\u001b[38;5;124;43m\"\u001b[39;49m\u001b[38;5;124;43m+\u001b[39;49m\u001b[38;5;124;43m\"\u001b[39;49m\u001b[38;5;241;43m.\u001b[39;49m\u001b[43mjoin\u001b[49m\u001b[43m(\u001b[49m\u001b[43mendpoints\u001b[49m\u001b[43m)\u001b[49m\u001b[43m,\u001b[49m\n\u001b[1;32m    140\u001b[0m \u001b[43m        \u001b[49m\u001b[43mm2_repo\u001b[49m\u001b[38;5;241;43m=\u001b[39;49m\u001b[43mscyjava\u001b[49m\u001b[38;5;241;43m.\u001b[39;49m\u001b[43mconfig\u001b[49m\u001b[38;5;241;43m.\u001b[39;49m\u001b[43mget_m2_repo\u001b[49m\u001b[43m(\u001b[49m\u001b[43m)\u001b[49m\u001b[43m,\u001b[49m\n\u001b[1;32m    141\u001b[0m \u001b[43m        \u001b[49m\u001b[43mcache_dir\u001b[49m\u001b[38;5;241;43m=\u001b[39;49m\u001b[43mscyjava\u001b[49m\u001b[38;5;241;43m.\u001b[39;49m\u001b[43mconfig\u001b[49m\u001b[38;5;241;43m.\u001b[39;49m\u001b[43mget_cache_dir\u001b[49m\u001b[43m(\u001b[49m\u001b[43m)\u001b[49m\u001b[43m,\u001b[49m\n\u001b[1;32m    142\u001b[0m \u001b[43m        \u001b[49m\u001b[43mmanage_dependencies\u001b[49m\u001b[38;5;241;43m=\u001b[39;49m\u001b[43mscyjava\u001b[49m\u001b[38;5;241;43m.\u001b[39;49m\u001b[43mconfig\u001b[49m\u001b[38;5;241;43m.\u001b[39;49m\u001b[43mget_manage_deps\u001b[49m\u001b[43m(\u001b[49m\u001b[43m)\u001b[49m\u001b[43m,\u001b[49m\n\u001b[1;32m    143\u001b[0m \u001b[43m        \u001b[49m\u001b[43mrepositories\u001b[49m\u001b[38;5;241;43m=\u001b[39;49m\u001b[43mrepositories\u001b[49m\u001b[43m,\u001b[49m\n\u001b[1;32m    144\u001b[0m \u001b[43m        \u001b[49m\u001b[43mverbose\u001b[49m\u001b[38;5;241;43m=\u001b[39;49m\u001b[43mscyjava\u001b[49m\u001b[38;5;241;43m.\u001b[39;49m\u001b[43mconfig\u001b[49m\u001b[38;5;241;43m.\u001b[39;49m\u001b[43mget_verbose\u001b[49m\u001b[43m(\u001b[49m\u001b[43m)\u001b[49m\u001b[43m,\u001b[49m\n\u001b[1;32m    145\u001b[0m \u001b[43m        \u001b[49m\u001b[43mshortcuts\u001b[49m\u001b[38;5;241;43m=\u001b[39;49m\u001b[43mscyjava\u001b[49m\u001b[38;5;241;43m.\u001b[39;49m\u001b[43mconfig\u001b[49m\u001b[38;5;241;43m.\u001b[39;49m\u001b[43mget_shortcuts\u001b[49m\u001b[43m(\u001b[49m\u001b[43m)\u001b[49m\u001b[43m,\u001b[49m\n\u001b[1;32m    146\u001b[0m \u001b[43m    \u001b[49m\u001b[43m)\u001b[49m\n\u001b[1;32m    147\u001b[0m     jpype\u001b[38;5;241m.\u001b[39maddClassPath(os\u001b[38;5;241m.\u001b[39mpath\u001b[38;5;241m.\u001b[39mjoin(workspace, \u001b[38;5;124m\"\u001b[39m\u001b[38;5;124m*\u001b[39m\u001b[38;5;124m\"\u001b[39m))\n\u001b[1;32m    149\u001b[0m \u001b[38;5;66;03m# HACK: Try to set JAVA_HOME if it isn't already.\u001b[39;00m\n",
      "File \u001b[0;32m~/anaconda3/lib/python3.10/site-packages/jgo/jgo.py:637\u001b[0m, in \u001b[0;36mresolve_dependencies\u001b[0;34m(endpoint_string, cache_dir, m2_repo, link_type, update_cache, force_update, manage_dependencies, repositories, shortcuts, verbose)\u001b[0m\n\u001b[1;32m    629\u001b[0m mvn_args \u001b[38;5;241m=\u001b[39m (\n\u001b[1;32m    630\u001b[0m     [\u001b[38;5;124m\"\u001b[39m\u001b[38;5;124m-B\u001b[39m\u001b[38;5;124m\"\u001b[39m]\n\u001b[1;32m    631\u001b[0m     \u001b[38;5;241m+\u001b[39m [\u001b[38;5;124m\"\u001b[39m\u001b[38;5;124m-f\u001b[39m\u001b[38;5;124m\"\u001b[39m, pom_path, \u001b[38;5;124m\"\u001b[39m\u001b[38;5;124mdependency:resolve\u001b[39m\u001b[38;5;124m\"\u001b[39m]\n\u001b[1;32m    632\u001b[0m     \u001b[38;5;241m+\u001b[39m ([\u001b[38;5;124m\"\u001b[39m\u001b[38;5;124m-U\u001b[39m\u001b[38;5;124m\"\u001b[39m] \u001b[38;5;28;01mif\u001b[39;00m force_update \u001b[38;5;28;01melse\u001b[39;00m [])\n\u001b[1;32m    633\u001b[0m     \u001b[38;5;241m+\u001b[39m ([\u001b[38;5;124m\"\u001b[39m\u001b[38;5;124m-X\u001b[39m\u001b[38;5;124m\"\u001b[39m] \u001b[38;5;28;01mif\u001b[39;00m verbose \u001b[38;5;241m>\u001b[39m \u001b[38;5;241m1\u001b[39m \u001b[38;5;28;01melse\u001b[39;00m [])\n\u001b[1;32m    634\u001b[0m )\n\u001b[1;32m    636\u001b[0m \u001b[38;5;28;01mtry\u001b[39;00m:\n\u001b[0;32m--> 637\u001b[0m     mvn \u001b[38;5;241m=\u001b[39m \u001b[43mexecutable_path_or_raise\u001b[49m\u001b[43m(\u001b[49m\u001b[38;5;124;43m\"\u001b[39;49m\u001b[38;5;124;43mmvn\u001b[39;49m\u001b[38;5;124;43m\"\u001b[39;49m\u001b[43m)\u001b[49m\n\u001b[1;32m    638\u001b[0m     mvn_out \u001b[38;5;241m=\u001b[39m run_and_combine_outputs(mvn, \u001b[38;5;241m*\u001b[39mmvn_args)\n\u001b[1;32m    639\u001b[0m \u001b[38;5;28;01mexcept\u001b[39;00m subprocess\u001b[38;5;241m.\u001b[39mCalledProcessError \u001b[38;5;28;01mas\u001b[39;00m e:\n",
      "File \u001b[0;32m~/anaconda3/lib/python3.10/site-packages/jgo/jgo.py:198\u001b[0m, in \u001b[0;36mexecutable_path_or_raise\u001b[0;34m(tool)\u001b[0m\n\u001b[1;32m    196\u001b[0m path \u001b[38;5;241m=\u001b[39m executable_path(tool)\n\u001b[1;32m    197\u001b[0m \u001b[38;5;28;01mif\u001b[39;00m path \u001b[38;5;129;01mis\u001b[39;00m \u001b[38;5;28;01mNone\u001b[39;00m:\n\u001b[0;32m--> 198\u001b[0m     \u001b[38;5;28;01mraise\u001b[39;00m ExecutableNotFound(tool, os\u001b[38;5;241m.\u001b[39mgetenv(\u001b[38;5;124m\"\u001b[39m\u001b[38;5;124mPATH\u001b[39m\u001b[38;5;124m\"\u001b[39m))\n\u001b[1;32m    199\u001b[0m \u001b[38;5;28;01mreturn\u001b[39;00m path\n",
      "\u001b[0;31mExecutableNotFound\u001b[0m: mvn not found on path /home/juan/.anaconda3/bin/:/usr/local/sbin:/usr/local/bin:/usr/sbin:/usr/bin:/sbin:/bin:/usr/games:/usr/local/games:/snap/bin:/snap/bin"
     ]
    }
   ],
   "source": []
  },
  {
   "cell_type": "code",
   "execution_count": null,
   "id": "28cf914b-6599-4bc2-9671-8afbd5fbc146",
   "metadata": {},
   "outputs": [],
   "source": [
    "imagej.init()"
   ]
  },
  {
   "cell_type": "code",
   "execution_count": null,
   "id": "683ba1fc-86f8-4895-a911-416011593cb6",
   "metadata": {},
   "outputs": [],
   "source": []
  }
 ],
 "metadata": {
  "kernelspec": {
   "display_name": "Python 3 (ipykernel)",
   "language": "python",
   "name": "python3"
  },
  "language_info": {
   "codemirror_mode": {
    "name": "ipython",
    "version": 3
   },
   "file_extension": ".py",
   "mimetype": "text/x-python",
   "name": "python",
   "nbconvert_exporter": "python",
   "pygments_lexer": "ipython3",
   "version": "3.10.9"
  }
 },
 "nbformat": 4,
 "nbformat_minor": 5
}
