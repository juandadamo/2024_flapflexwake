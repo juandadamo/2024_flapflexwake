{
 "cells": [
  {
   "cell_type": "code",
   "execution_count": 2,
   "id": "01d0dfaa-6cb0-4ed8-bde8-f3aa43253641",
   "metadata": {},
   "outputs": [],
   "source": [
    "%matplotlib qt\n",
    "from ipywidgets import interact\n",
    "import ipywidgets as widgets\n",
    "import pandas as pd\n",
    "import matplotlib.pyplot as plt\n",
    "import numpy as np\n",
    "import os,glob, socket\n",
    "import tifffile as tif\n",
    "\n"
   ]
  },
  {
   "cell_type": "code",
   "execution_count": 7,
   "id": "33b416ef-338d-4a6b-9f3b-20df989d07e3",
   "metadata": {},
   "outputs": [],
   "source": [
    "def plot(nfile,dir_i):\n",
    "    if dir_i.split('_')[4]=='1':\n",
    "        namefile = 'output_fastcam/'+''.join(dir_i.split('_')[1:4])+'_1.csv'\n",
    "    else:        \n",
    "        namefile = 'output_fastcam/'+''.join(dir_i.split('_')[1:4])+'_0.csv'\n",
    "    namefile = 'output_fastcam/'+''.join(dir_i.split('_')[1:4])+'_0b.csv'    \n",
    "    plt.close('all')\n",
    "    \n",
    "    if os.path.isfile(namefile)==False:\n",
    "        print(namefile)\n",
    "        fig,ax = plt.subplots()\n",
    "        fig.canvas.manager.set_window_title(namefile)\n",
    "        file_list = np.sort(glob.glob(dir_w+dir_i+'/*.tif'))\n",
    "        if nfile>len(file_list):\n",
    "            nfile = len(file_list)-1\n",
    "        im_ref = tif.imread(file_list[nfile])\n",
    "        ax.imshow(im_ref)\n",
    "        n,m = im_ref.shape\n",
    "        ax.text(int(4*m/5),(n/2),f'snapshot={nfile:01n}',color='w')\n",
    "        ax.set_xlim([0,int(m/2)])\n",
    "        ax.set_ylim([int(n/2),n])\n",
    "        x0 = plt.ginput(-1,timeout=0)\n",
    "        \n",
    "        print(x0)\n",
    "        ax.set_xlim([int(m/2),m])\n",
    "        ax.set_ylim([int(n/2),n])\n",
    "        x1 = plt.ginput(-1,timeout=0) \n",
    "        print(x1)\n",
    "        ax.set_xlim([0,int(m/2)])\n",
    "        ax.set_ylim([0,int(n/2)])\n",
    "        x2 = plt.ginput(-1,timeout=0) \n",
    "        print(x2)\n",
    "        ax.set_xlim([m,int(m/2)])\n",
    "        ax.set_ylim([0,int(n/2)])\n",
    "        x3 = plt.ginput(-1,timeout=0) \n",
    "        print(x3)    \n",
    "        print(dir_i)\n",
    "        x = np.vstack((x0,x1,x2,x3))\n",
    "        A = pd.DataFrame(data=x,index=['x0','x1','x2','x3'])\n",
    "    \n",
    "        A.to_csv(namefile)\n",
    "    else: print(namefile+ ' Caso Guardado' )   \n",
    "    return \n"
   ]
  },
  {
   "cell_type": "code",
   "execution_count": 8,
   "id": "b01c1b7b-7eeb-4794-a12e-323ce962e7bd",
   "metadata": {},
   "outputs": [],
   "source": [
    "if socket.gethostname() =='pc-i7':\n",
    "    dir_w = '/mnt/sdb4/juan/data_2024/photron/'    \n",
    "else:\n",
    "    dir_w = '/media/juan/JUAN_PMMH/LFD/photron/'\n",
    "    \n",
    "dir_w = '/media/juan/juan_win/photron/feb2025/'    \n",
    "dirlist = np.sort(os.listdir(dir_w))\n",
    "dir_i = dirlist[-10]"
   ]
  },
  {
   "cell_type": "code",
   "execution_count": 9,
   "id": "29d1f751-856c-4167-b0b2-e8ef2150b451",
   "metadata": {},
   "outputs": [
    {
     "data": {
      "application/vnd.jupyter.widget-view+json": {
       "model_id": "c555c3c77d26485c9ebf612154d1a73c",
       "version_major": 2,
       "version_minor": 0
      },
      "text/plain": [
       "interactive(children=(BoundedIntText(value=7, description='Text:', max=10000), Text(value='dshape_t050_L125_v0…"
      ]
     },
     "metadata": {},
     "output_type": "display_data"
    },
    {
     "data": {
      "application/vnd.jupyter.widget-view+json": {
       "model_id": "01d02750e9974f8cb8a43be8f4f77429",
       "version_major": 2,
       "version_minor": 0
      },
      "text/plain": [
       "interactive(children=(BoundedIntText(value=7, description='Text:', max=10000), Text(value='dshape_t050_L125_v4…"
      ]
     },
     "metadata": {},
     "output_type": "display_data"
    },
    {
     "data": {
      "application/vnd.jupyter.widget-view+json": {
       "model_id": "c4acee7004cb4ec396b644b7ffd38632",
       "version_major": 2,
       "version_minor": 0
      },
      "text/plain": [
       "interactive(children=(BoundedIntText(value=7, description='Text:', max=10000), Text(value='dshape_t050_L125_v4…"
      ]
     },
     "metadata": {},
     "output_type": "display_data"
    },
    {
     "data": {
      "application/vnd.jupyter.widget-view+json": {
       "model_id": "7bd234e548e142c290bc7962a44ab701",
       "version_major": 2,
       "version_minor": 0
      },
      "text/plain": [
       "interactive(children=(BoundedIntText(value=7, description='Text:', max=10000), Text(value='dshape_t050_L125_v4…"
      ]
     },
     "metadata": {},
     "output_type": "display_data"
    },
    {
     "data": {
      "application/vnd.jupyter.widget-view+json": {
       "model_id": "364892704b4b4444b1f48ead05671ffa",
       "version_major": 2,
       "version_minor": 0
      },
      "text/plain": [
       "interactive(children=(BoundedIntText(value=7, description='Text:', max=10000), Text(value='dshape_t050_L125_v4…"
      ]
     },
     "metadata": {},
     "output_type": "display_data"
    },
    {
     "data": {
      "application/vnd.jupyter.widget-view+json": {
       "model_id": "20ce7a86253b460faec5780235a5dac3",
       "version_major": 2,
       "version_minor": 0
      },
      "text/plain": [
       "interactive(children=(BoundedIntText(value=7, description='Text:', max=10000), Text(value='dshape_t050_L125_v4…"
      ]
     },
     "metadata": {},
     "output_type": "display_data"
    },
    {
     "data": {
      "application/vnd.jupyter.widget-view+json": {
       "model_id": "b93c56f1c72d484c84381ef16c965069",
       "version_major": 2,
       "version_minor": 0
      },
      "text/plain": [
       "interactive(children=(BoundedIntText(value=7, description='Text:', max=10000), Text(value='dshape_t050_L125_v5…"
      ]
     },
     "metadata": {},
     "output_type": "display_data"
    },
    {
     "data": {
      "application/vnd.jupyter.widget-view+json": {
       "model_id": "04480e2163b14cd6905c47a941149644",
       "version_major": 2,
       "version_minor": 0
      },
      "text/plain": [
       "interactive(children=(BoundedIntText(value=7, description='Text:', max=10000), Text(value='dshape_t050_L125_v5…"
      ]
     },
     "metadata": {},
     "output_type": "display_data"
    },
    {
     "data": {
      "application/vnd.jupyter.widget-view+json": {
       "model_id": "b38d55290a5545ec9f16e1827ff67ced",
       "version_major": 2,
       "version_minor": 0
      },
      "text/plain": [
       "interactive(children=(BoundedIntText(value=7, description='Text:', max=10000), Text(value='dshape_t050_L125_v5…"
      ]
     },
     "metadata": {},
     "output_type": "display_data"
    },
    {
     "data": {
      "application/vnd.jupyter.widget-view+json": {
       "model_id": "9264888a273d4b8eb3247a1b27c2b322",
       "version_major": 2,
       "version_minor": 0
      },
      "text/plain": [
       "interactive(children=(BoundedIntText(value=7, description='Text:', max=10000), Text(value='dshape_t050_L125_v5…"
      ]
     },
     "metadata": {},
     "output_type": "display_data"
    },
    {
     "data": {
      "application/vnd.jupyter.widget-view+json": {
       "model_id": "37059deac2c54b33af6d1f9279c3933b",
       "version_major": 2,
       "version_minor": 0
      },
      "text/plain": [
       "interactive(children=(BoundedIntText(value=7, description='Text:', max=10000), Text(value='dshape_t050_L125_v5…"
      ]
     },
     "metadata": {},
     "output_type": "display_data"
    }
   ],
   "source": [
    "for dir_i in dirlist:\n",
    "    out = interact(plot, nfile = widgets.BoundedIntText(value=7,min=0,max=10000,step=1,description='Text:', disabled=False\n",
    "),dir_i=dir_i)\n",
    "    plt.close('all')\n"
   ]
  },
  {
   "cell_type": "code",
   "execution_count": 9,
   "id": "36a490dc-4a1e-4056-bf20-70d5617c23c2",
   "metadata": {},
   "outputs": [
    {
     "data": {
      "text/plain": [
       "'fps2000'"
      ]
     },
     "execution_count": 9,
     "metadata": {},
     "output_type": "execute_result"
    }
   ],
   "source": [
    "dir_i"
   ]
  },
  {
   "cell_type": "code",
   "execution_count": 10,
   "id": "2a107382-bc4f-4938-994b-8f63d4a93308",
   "metadata": {},
   "outputs": [
    {
     "data": {
      "text/plain": [
       "array(['dshape_t050_L075_v0_0_20240828_114458',\n",
       "       'dshape_t050_L075_v40_0_20240828_121348',\n",
       "       'dshape_t050_L075_v42_0_20240828_121042',\n",
       "       'dshape_t050_L075_v44_0_20240828_120638',\n",
       "       'dshape_t050_L075_v46_0_20240828_120405',\n",
       "       'dshape_t050_L075_v48_0_20240828_115840',\n",
       "       'dshape_t050_L075_v50_0_20240828_115459',\n",
       "       'dshape_t050_L075_v52_0_20240828_115152',\n",
       "       'dshape_t050_L075_v54_0_20240828_114917',\n",
       "       'dshape_t050_L075_v56_0_20240828_114646',\n",
       "       'dshape_t050_L100_v40_0_20240826_164808',\n",
       "       'dshape_t050_L100_v40_1_20240827_105801',\n",
       "       'dshape_t050_L100_v42_0_20240826_164442',\n",
       "       'dshape_t050_L100_v42_1_20240827_110050',\n",
       "       'dshape_t050_L100_v44_0_20240826_164106',\n",
       "       'dshape_t050_L100_v44_1_20240827_110407',\n",
       "       'dshape_t050_L100_v46_0_20240826_163808',\n",
       "       'dshape_t050_L100_v46_1_20240827_110623',\n",
       "       'dshape_t050_L100_v48_0_20240826_163402',\n",
       "       'dshape_t050_L100_v48_1_20240827_110912',\n",
       "       'dshape_t050_L100_v50_0_20240826_163118',\n",
       "       'dshape_t050_L100_v50_1_20240827_111249',\n",
       "       'dshape_t050_L100_v52_0_20240826_162527',\n",
       "       'dshape_t050_L100_v52_1_20240827_115253',\n",
       "       'dshape_t050_L100_v54_0_20240826_162207',\n",
       "       'dshape_t050_L100_v54_1_20240827_115515',\n",
       "       'dshape_t050_L100_v56_0_20240826_161912',\n",
       "       'dshape_t050_L100_v56_1_20240827_115735',\n",
       "       'dshape_t050_L125_v40_0_20240826_152608',\n",
       "       'dshape_t050_L125_v42_0_20240826_152856',\n",
       "       'dshape_t050_L125_v44_0_20240826_153132',\n",
       "       'dshape_t050_L125_v46_0_20240826_153508',\n",
       "       'dshape_t050_L125_v48_0_20240826_153850',\n",
       "       'dshape_t050_L125_v50_0_20240826_154132',\n",
       "       'dshape_t050_L125_v52_0_20240826_155739',\n",
       "       'dshape_t050_L125_v54_0_20240826_155419',\n",
       "       'dshape_t050_L125_v54_1_20240826_154447',\n",
       "       'dshape_t050_L125_v56_0_20240826_155036',\n",
       "       'dshape_t050_L150_v0_0_20240826_142606',\n",
       "       'dshape_t050_L150_v40_0_20240826_143117',\n",
       "       'dshape_t050_L150_v40_1_20240829_150720',\n",
       "       'dshape_t050_L150_v42_0_20240826_143430',\n",
       "       'dshape_t050_L150_v42_1_20240829_150321',\n",
       "       'dshape_t050_L150_v44_0_20240826_143655',\n",
       "       'dshape_t050_L150_v44_1_20240829_145858',\n",
       "       'dshape_t050_L150_v46_0_20240826_143943',\n",
       "       'dshape_t050_L150_v46_1_20240829_145558',\n",
       "       'dshape_t050_L150_v48_0_20240826_144539',\n",
       "       'dshape_t050_L150_v48_1_20240829_144913',\n",
       "       'dshape_t050_L150_v50_0_20240826_145037',\n",
       "       'dshape_t050_L150_v50_1_20240829_144601',\n",
       "       'dshape_t050_L150_v52_0_20240826_145325',\n",
       "       'dshape_t050_L150_v52_1_20240829_143928',\n",
       "       'dshape_t050_L150_v54_0_20240826_145621',\n",
       "       'dshape_t050_L150_v54_1_20240829_143639',\n",
       "       'dshape_t050_L150_v56_0_20240826_145931',\n",
       "       'dshape_t050_L150_v56_1_20240829_143402',\n",
       "       'dshape_t075_L075_v0_0_20240826_112841',\n",
       "       'dshape_t075_L075_v40_0_20240826_115858',\n",
       "       'dshape_t075_L075_v42_0_20240826_115549',\n",
       "       'dshape_t075_L075_v44_0_20240826_115239',\n",
       "       'dshape_t075_L075_v46_0_20240826_114930',\n",
       "       'dshape_t075_L075_v48_0_20240826_114626',\n",
       "       'dshape_t075_L075_v50_0_20240826_114319',\n",
       "       'dshape_t075_L075_v52_0_20240826_114004',\n",
       "       'dshape_t075_L075_v54_0_20240826_113705',\n",
       "       'dshape_t075_L075_v56_0_20240826_113137',\n",
       "       'dshape_t075_L100_v0_0_20240809_153756',\n",
       "       'dshape_t075_L100_v40_0_20240809_161321',\n",
       "       'dshape_t075_L100_v42_0_20240809_160859',\n",
       "       'dshape_t075_L100_v44_0_20240809_160524',\n",
       "       'dshape_t075_L100_v46_0_20240809_160152',\n",
       "       'dshape_t075_L100_v48_0_20240809_155816',\n",
       "       'dshape_t075_L100_v50_0_20240809_155405',\n",
       "       'dshape_t075_L100_v52_0_20240809_155014',\n",
       "       'dshape_t075_L100_v54_0_20240809_154623',\n",
       "       'dshape_t075_L100_v56_0_20240809_154018',\n",
       "       'dshape_t075_L125_v40_1_20240808_162905',\n",
       "       'dshape_t075_L125_v40_20240731_174239',\n",
       "       'dshape_t075_L125_v42_1_20240808_162552',\n",
       "       'dshape_t075_L125_v42_20240731_173900',\n",
       "       'dshape_t075_L125_v44_1_20240808_162141',\n",
       "       'dshape_t075_L125_v44_20240731_173536',\n",
       "       'dshape_t075_L125_v46_1_20240808_161635',\n",
       "       'dshape_t075_L125_v46_20240731_173221',\n",
       "       'dshape_t075_L125_v48_1_20240808_161400',\n",
       "       'dshape_t075_L125_v48_20240731_172813',\n",
       "       'dshape_t075_L125_v50_1_20240808_160641',\n",
       "       'dshape_t075_L125_v50_20240731_172404',\n",
       "       'dshape_t075_L125_v52_1_20240808_160405',\n",
       "       'dshape_t075_L125_v52_20240731_171715',\n",
       "       'dshape_t075_L125_v54_1_20240808_160047',\n",
       "       'dshape_t075_L125_v54_20240731_172018',\n",
       "       'dshape_t075_L125_v56_1_20240808_155518',\n",
       "       'dshape_t075_L125_v56_20240731_171328',\n",
       "       'dshape_t075_L150_v0_20240731_154032',\n",
       "       'dshape_t075_L150_v40_20240731_163122',\n",
       "       'dshape_t075_L150_v42_20240731_162739',\n",
       "       'dshape_t075_L150_v44_20240731_162227',\n",
       "       'dshape_t075_L150_v46_20240731_161726',\n",
       "       'dshape_t075_L150_v48_20240731_161347',\n",
       "       'dshape_t075_L150_v50_20240731_155642',\n",
       "       'dshape_t075_L150_v52_20240731_155347',\n",
       "       'dshape_t075_L150_v54_20240731_155051',\n",
       "       'dshape_t075_L150_v56_20240731_154739', 'dshape_t1000_L075_v0_0',\n",
       "       'dshape_t1000_L100_v0_0_20240830_135804', 'dshape_t1000_L100_v0_1',\n",
       "       'dshape_t1000_L125_v0_0_20240829_160848',\n",
       "       'dshape_t1000_L150_v0_0_20240829_152205', 'fps2000'], dtype='<U38')"
      ]
     },
     "execution_count": 10,
     "metadata": {},
     "output_type": "execute_result"
    }
   ],
   "source": [
    "dirlist\n"
   ]
  },
  {
   "cell_type": "code",
   "execution_count": null,
   "id": "3dab2dca-f66f-43b1-9e77-f5eea6e81141",
   "metadata": {},
   "outputs": [],
   "source": []
  },
  {
   "cell_type": "code",
   "execution_count": null,
   "id": "dbd90eac-417f-4433-8b60-5c4607444273",
   "metadata": {},
   "outputs": [],
   "source": [
    "AA = pd.DataFrame(data=([1,2,3,4]),index=['x0','x1','x2','x3'])\n",
    "AA.to_csv('prueba.csv')"
   ]
  },
  {
   "cell_type": "code",
   "execution_count": null,
   "id": "85aa2d07-6999-44a9-b68d-9bd3e64998fa",
   "metadata": {},
   "outputs": [],
   "source": [
    "if os.path.isfile('prueba.csv')=='':\n",
    "    print('hola')"
   ]
  },
  {
   "cell_type": "code",
   "execution_count": null,
   "id": "5617c95f-d055-40fe-93d7-d7bf3f427b7b",
   "metadata": {},
   "outputs": [],
   "source": [
    "os.path.isfile('prueba.csv')"
   ]
  },
  {
   "cell_type": "code",
   "execution_count": null,
   "id": "4df9ee2e-bd56-41df-ad66-3713d1c09e7d",
   "metadata": {},
   "outputs": [],
   "source": []
  }
 ],
 "metadata": {
  "kernelspec": {
   "display_name": "Python 3 (ipykernel)",
   "language": "python",
   "name": "python3"
  },
  "language_info": {
   "codemirror_mode": {
    "name": "ipython",
    "version": 3
   },
   "file_extension": ".py",
   "mimetype": "text/x-python",
   "name": "python",
   "nbconvert_exporter": "python",
   "pygments_lexer": "ipython3",
   "version": "3.10.9"
  }
 },
 "nbformat": 4,
 "nbformat_minor": 5
}
