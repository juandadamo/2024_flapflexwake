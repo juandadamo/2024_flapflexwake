{
 "cells": [
  {
   "cell_type": "code",
   "execution_count": 2,
   "id": "c249d5dd-3fd8-49b3-b922-546e0670a596",
   "metadata": {
    "tags": []
   },
   "outputs": [],
   "source": [
    "%matplotlib widget\n",
    "import serial,socket,os,glob\n",
    "import matplotlib.pyplot as plt\n",
    "#import atexit\n",
    "import numpy as np\n",
    "import pandas as pd\n",
    "import time, threading,sys,glob\n",
    "from ipywidgets import interact, interact_manual,interactive,widgets,Layout\n",
    "colores = (plt.rcParams['axes.prop_cycle'].by_key()['color'])\n",
    "from serial import Serial"
   ]
  },
  {
   "cell_type": "code",
   "execution_count": 2,
   "id": "ae62a0e7-fea4-43fd-a9b4-4721b037f15a",
   "metadata": {},
   "outputs": [],
   "source": [
    "if socket.gethostname() == 'juan-X515EA':\n",
    "    port = '/dev/ttyUSB0'\n",
    "elif     socket.gethostname() == 'juan-i7':\n",
    "    port = '/dev/ttyUSB0'\n",
    "    global running\n",
    "\n",
    "\n",
    "arduino = Serial(port, 115200)\n",
    "#trash = arduino.readlines(10)\n",
    "linea = arduino.readline()\n",
    "arduino.close()\n",
    "running = True"
   ]
  },
  {
   "cell_type": "code",
   "execution_count": 3,
   "id": "24bb4ffc-eead-41f6-9899-02505e0d7ff5",
   "metadata": {},
   "outputs": [],
   "source": [
    "def lee_arduino(arduino):\n",
    "    linea = arduino.readline()\n",
    "\n",
    "    return linea"
   ]
  },
  {
   "cell_type": "code",
   "execution_count": 26,
   "id": "dd3a4213-98bb-4b65-8cc9-a2daaa489eb9",
   "metadata": {},
   "outputs": [],
   "source": [
    "dirout= 'medidas/'\n",
    "fileout = 'Dshape_e75_L150_deltaV0_2'\n",
    "#fileout = 'refD_04'\n",
    "arduino = serial.Serial(port, 115200)\n",
    "\n",
    "original_stdout = sys.stdout # Save a reference to the original standard output\n",
    "\n",
    "out1 = lee_arduino(arduino)\n",
    "with open(dirout+fileout, 'w') as archivo:\n",
    "    for i in range(2000):\n",
    "        \n",
    "        sys.stdout = archivo # Change the standard output to the file we created.\n",
    "        time.sleep(0.001)\n",
    "        out1 = lee_arduino(arduino)\n",
    "        texto = str(out1.decode('ascii')).strip().split('\\r')[0]\n",
    "        print(texto)\n",
    "        sys.stdout = original_stdout # Reset the standard output to its original value\n",
    "\n",
    "arduino.close()\n",
    "archivo.close()\n",
    "A = pd.read_csv(dirout+fileout,names = ['t','D','L','r'])"
   ]
  },
  {
   "cell_type": "code",
   "execution_count": 5,
   "id": "2fce1c56-f46f-419f-a4fc-b906061ac9fa",
   "metadata": {},
   "outputs": [
    {
     "data": {
      "text/plain": [
       "-852.43941"
      ]
     },
     "execution_count": 5,
     "metadata": {},
     "output_type": "execute_result"
    }
   ],
   "source": [
    "A.iloc[:,3].mean()"
   ]
  },
  {
   "cell_type": "code",
   "execution_count": null,
   "id": "f61d644f-b5a3-4b0a-b03e-41810952a509",
   "metadata": {},
   "outputs": [],
   "source": [
    "# Frecuencia Natural"
   ]
  },
  {
   "cell_type": "code",
   "execution_count": 28,
   "id": "95a3b1d6-c289-4379-86ef-af9f24c8575a",
   "metadata": {
    "tags": []
   },
   "outputs": [],
   "source": [
    "B = 5.58e-5\n",
    "rho = 1160\n",
    "\n",
    "k1L = 1.875\n",
    "t = 50e-6\n",
    "L = 50e-3*1.50\n",
    "#L = 35e-3\n",
    "\n",
    "mu = rho  * t\n",
    "k1 = k1L/L\n",
    "f_n1 = k1**2*(B/mu)**0.5/2/np.pi"
   ]
  },
  {
   "cell_type": "code",
   "execution_count": 29,
   "id": "004784d6-3472-48c5-a129-0079b625e3a4",
   "metadata": {
    "tags": []
   },
   "outputs": [
    {
     "data": {
      "text/plain": [
       "3.0853415774572754"
      ]
     },
     "execution_count": 29,
     "metadata": {},
     "output_type": "execute_result"
    }
   ],
   "source": [
    "f_n1"
   ]
  }
 ],
 "metadata": {
  "kernelspec": {
   "display_name": "Python 3 (ipykernel)",
   "language": "python",
   "name": "python3"
  },
  "language_info": {
   "codemirror_mode": {
    "name": "ipython",
    "version": 3
   },
   "file_extension": ".py",
   "mimetype": "text/x-python",
   "name": "python",
   "nbconvert_exporter": "python",
   "pygments_lexer": "ipython3",
   "version": "3.11.5"
  }
 },
 "nbformat": 4,
 "nbformat_minor": 5
}
