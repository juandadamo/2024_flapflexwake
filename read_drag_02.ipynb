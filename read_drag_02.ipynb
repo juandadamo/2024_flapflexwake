{
 "cells": [
  {
   "cell_type": "code",
   "execution_count": 1,
   "id": "c249d5dd-3fd8-49b3-b922-546e0670a596",
   "metadata": {
    "tags": []
   },
   "outputs": [],
   "source": [
    "%matplotlib widget\n",
    "import serial,socket,os,glob\n",
    "import matplotlib.pyplot as plt\n",
    "#import atexit\n",
    "import numpy as np\n",
    "import pandas as pd\n",
    "import time, threading,sys,glob\n",
    "from ipywidgets import interact, interact_manual,interactive,widgets,Layout\n",
    "colores = (plt.rcParams['axes.prop_cycle'].by_key()['color'])\n",
    "from serial import Serial"
   ]
  },
  {
   "cell_type": "code",
   "execution_count": 2,
   "id": "ae62a0e7-fea4-43fd-a9b4-4721b037f15a",
   "metadata": {},
   "outputs": [],
   "source": [
    "if socket.gethostname() == 'juan-X515EA':\n",
    "    port = '/dev/ttyUSB0'\n",
    "elif     socket.gethostname() == 'juan-i7':\n",
    "    port = '/dev/ttyUSB0'\n",
    "    global running\n",
    "\n",
    "\n",
    "arduino = Serial(port, 115200)\n",
    "#trash = arduino.readlines(10)\n",
    "linea = arduino.readline()\n",
    "arduino.close()\n",
    "running = True"
   ]
  },
  {
   "cell_type": "code",
   "execution_count": 3,
   "id": "24bb4ffc-eead-41f6-9899-02505e0d7ff5",
   "metadata": {},
   "outputs": [],
   "source": [
    "def lee_arduino(arduino):\n",
    "    linea = arduino.readline()\n",
    "\n",
    "    return linea"
   ]
  },
  {
   "cell_type": "code",
   "execution_count": 24,
   "id": "dd3a4213-98bb-4b65-8cc9-a2daaa489eb9",
   "metadata": {},
   "outputs": [],
   "source": [
    "dirout= 'medidas_ene_2025/'\n",
    "#fileout = 'Dshape_soporte_V0_5'\n",
    "fileout = 'Dshape_e50_L125_deltaV0_7'\n",
    "#fileout = 'refD_04'\n",
    "arduino = serial.Serial(port, 115200)\n",
    "\n",
    "original_stdout = sys.stdout # Save a reference to the original standard output\n",
    "\n",
    "out1 = lee_arduino(arduino)\n",
    "with open(dirout+fileout, 'w') as archivo:\n",
    "    for i in range(500):\n",
    "        \n",
    "        sys.stdout = archivo # Change the standard output to the file we created.\n",
    "        time.sleep(0.001)\n",
    "        out1 = lee_arduino(arduino)\n",
    "        texto = str(out1.decode('ascii')).strip().split('\\r')[0]\n",
    "        print(texto)\n",
    "        sys.stdout = original_stdout # Reset the standard output to its original value\n",
    "\n",
    "arduino.close()\n",
    "archivo.close()\n",
    "A = pd.read_csv(dirout+fileout,names = ['t','D','L','r'])"
   ]
  },
  {
   "cell_type": "code",
   "execution_count": 25,
   "id": "2fce1c56-f46f-419f-a4fc-b906061ac9fa",
   "metadata": {},
   "outputs": [
    {
     "data": {
      "text/plain": [
       "-418.39214000000004"
      ]
     },
     "execution_count": 25,
     "metadata": {},
     "output_type": "execute_result"
    }
   ],
   "source": [
    "A.iloc[:,3].mean()"
   ]
  },
  {
   "cell_type": "code",
   "execution_count": 38,
   "id": "f61d644f-b5a3-4b0a-b03e-41810952a509",
   "metadata": {},
   "outputs": [],
   "source": [
    "filei0 = 'medidas_ene_2025/back/Dshape_e1000_L075_deltaV0_0'\n",
    "filei1 = 'medidas_ene_2025/back/Dshape_e1000_L000_deltaV58_0'"
   ]
  },
  {
   "cell_type": "code",
   "execution_count": null,
   "id": "dc6c93b9-4826-43e9-80da-568235541e04",
   "metadata": {},
   "outputs": [],
   "source": [
    "1000"
   ]
  },
  {
   "cell_type": "code",
   "execution_count": 39,
   "id": "9689cbf2-e306-4df4-a453-c8435cffbe2d",
   "metadata": {},
   "outputs": [],
   "source": [
    "\n"
   ]
  },
  {
   "cell_type": "code",
   "execution_count": 40,
   "id": "3bf4b26e-cae9-4811-9265-d7d4a206eec5",
   "metadata": {},
   "outputs": [
    {
     "data": {
      "text/plain": [
       "-74.34636499999999"
      ]
     },
     "execution_count": 40,
     "metadata": {},
     "output_type": "execute_result"
    }
   ],
   "source": []
  },
  {
   "cell_type": "code",
   "execution_count": 114,
   "id": "8841a87c-07aa-4c5c-a226-491698c09afc",
   "metadata": {},
   "outputs": [
    {
     "data": {
      "text/plain": [
       "-1.0084000000000515"
      ]
     },
     "execution_count": 114,
     "metadata": {},
     "output_type": "execute_result"
    }
   ],
   "source": [
    "filei0 = 'medidas_ene_2025/Dshape_e1000_L100_deltaV0_0'\n",
    "filei1 = 'medidas_ene_2025/Dshape_e1000_L100_deltaV0_2'\n",
    "B0 = pd.read_csv(filei0,names = ['t','D','L','r'])\n",
    "B1 = pd.read_csv(filei1,names = ['t','D','L','r'])\n",
    "B0.iloc[:,3].mean()-B1.iloc[:,3].mean()"
   ]
  },
  {
   "cell_type": "code",
   "execution_count": 30,
   "id": "6cc12e99-182c-447d-ae55-1e626f09207a",
   "metadata": {},
   "outputs": [
    {
     "data": {
      "text/plain": [
       "71"
      ]
     },
     "execution_count": 30,
     "metadata": {},
     "output_type": "execute_result"
    }
   ],
   "source": [
    "423-352"
   ]
  },
  {
   "cell_type": "code",
   "execution_count": null,
   "id": "88116f44-8331-4425-85a9-cb663e7f6ad8",
   "metadata": {},
   "outputs": [],
   "source": []
  }
 ],
 "metadata": {
  "kernelspec": {
   "display_name": "Python 3 (ipykernel)",
   "language": "python",
   "name": "python3"
  },
  "language_info": {
   "codemirror_mode": {
    "name": "ipython",
    "version": 3
   },
   "file_extension": ".py",
   "mimetype": "text/x-python",
   "name": "python",
   "nbconvert_exporter": "python",
   "pygments_lexer": "ipython3",
   "version": "3.10.9"
  }
 },
 "nbformat": 4,
 "nbformat_minor": 5
}
